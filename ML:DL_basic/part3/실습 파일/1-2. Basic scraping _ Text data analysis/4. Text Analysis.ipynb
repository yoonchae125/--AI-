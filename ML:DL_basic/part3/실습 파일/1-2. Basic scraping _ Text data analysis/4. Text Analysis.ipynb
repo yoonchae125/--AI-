{
 "cells": [
  {
   "cell_type": "markdown",
   "metadata": {},
   "source": [
    "#### Text Analysis 실습\n",
    "- **TF-IDF & Cosine similarity**을 이용하여 텍스트 간 유사도 계산하기"
   ]
  },
  {
   "cell_type": "markdown",
   "metadata": {},
   "source": [
    "<br>\n",
    "<br>\n",
    "#### 1. 두 개의 영화 리뷰 텍스트 간 유사도 계산하기"
   ]
  },
  {
   "cell_type": "markdown",
   "metadata": {},
   "source": [
    "#### 1) The Shawshank Redemption (1994) & The Godfather (1972)"
   ]
  },
  {
   "cell_type": "code",
   "execution_count": 1,
   "metadata": {
    "collapsed": true
   },
   "outputs": [],
   "source": [
    "# 유사도 분석에 필요한 패키지를 불러온다\n",
    "from sklearn.feature_extraction.text import TfidfVectorizer\n",
    "from sklearn.metrics.pairwise import cosine_similarity"
   ]
  },
  {
   "cell_type": "code",
   "execution_count": 38,
   "metadata": {
    "collapsed": true
   },
   "outputs": [],
   "source": [
    "with open('shawshank.txt', 'r', encoding = 'utf-8') as f:  # 읽기 모드('r')로 지정하고 인코딩은 'utf-8'로 설정한다\n",
    "    doc1 = ''  # 리뷰 데이터를 담기 위한 String 변수 생성\n",
    "    lines = f.readlines()  # 영화 리뷰 파일의 모든 라인을 읽어와 리스트로 저장\n",
    "    for line in lines:  # for문을 통해 lines에 있는 모든 텍스트를 doc1에 이어 붙임\n",
    "        doc1 += line\n",
    "    f.close()  # 파일을 닫는다\n",
    "\n",
    "with open('godfather.txt', 'r', encoding= 'utf-8') as f:  # 읽기 모드('r')로 지정하고 인코딩은 'utf-8'로 설정한다\n",
    "    doc2 = ''  # 리뷰 데이터를 담기 위한 String 변수 생성\n",
    "    lines = f.readlines()  # 영화 리뷰 파일의 모든 라인을 읽어와 리스트로 저장\n",
    "    for line in lines:  # for문을 통해 lines에 있는 모든 텍스트를 doc2에 이어 붙임\n",
    "        doc2 += line\n",
    "    f.close()  # 파일을 닫는다"
   ]
  },
  {
   "cell_type": "code",
   "execution_count": 39,
   "metadata": {
    "collapsed": true
   },
   "outputs": [],
   "source": [
    "corpus = [doc1, doc2]  # doc1, doc2를 합쳐 corpus list를 생성\n",
    "# corpus[0]"
   ]
  },
  {
   "cell_type": "code",
   "execution_count": 40,
   "metadata": {
    "collapsed": true
   },
   "outputs": [],
   "source": [
    "vectorizer = TfidfVectorizer()  # TfidfVectorizer() 객체 변수 생성"
   ]
  },
  {
   "cell_type": "code",
   "execution_count": 41,
   "metadata": {},
   "outputs": [
    {
     "name": "stderr",
     "output_type": "stream",
     "text": [
      "C:\\Anaconda3\\lib\\site-packages\\sklearn\\feature_extraction\\text.py:1039: FutureWarning: Conversion of the second argument of issubdtype from `float` to `np.floating` is deprecated. In future, it will be treated as `np.float64 == np.dtype(float).type`.\n",
      "  if hasattr(X, 'dtype') and np.issubdtype(X.dtype, np.float):\n"
     ]
    }
   ],
   "source": [
    "# fit_transform()를 통해 corpus의 텍스트 데이터를 벡터화해 X에 저장하고 X를 dense한 matrix로 변환\n",
    "# raw counts have been normalized against document length, \n",
    "# terms that are found across many docs are weighted down.\n",
    "X = vectorizer.fit_transform(corpus).todense()"
   ]
  },
  {
   "cell_type": "code",
   "execution_count": 6,
   "metadata": {},
   "outputs": [
    {
     "name": "stdout",
     "output_type": "stream",
     "text": [
      "<class 'numpy.matrixlib.defmatrix.matrix'>\n",
      "(2, 3276)\n"
     ]
    }
   ],
   "source": [
    "print(type(X))\n",
    "print(X.shape) # 2행 3276열의 행렬 (각 행은 각 영화 리뷰 데이터의 word(열) 출현 빈도에 대한 dense matrix)"
   ]
  },
  {
   "cell_type": "code",
   "execution_count": 14,
   "metadata": {},
   "outputs": [
    {
     "name": "stdout",
     "output_type": "stream",
     "text": [
      "Similarity between 'The Shawshank Redemption' and 'The Godfather':  [[0.9437827]]\n"
     ]
    }
   ],
   "source": [
    "print(\"Similarity between 'The Shawshank Redemption' and 'The Godfather': \", cosine_similarity(X[0], X[1]))"
   ]
  },
  {
   "cell_type": "markdown",
   "metadata": {},
   "source": [
    "<br>\n",
    "#### 2) The Shawshank Redemption (1994) & Inception (2010)"
   ]
  },
  {
   "cell_type": "code",
   "execution_count": 19,
   "metadata": {},
   "outputs": [
    {
     "name": "stdout",
     "output_type": "stream",
     "text": [
      "Similarity between 'The Shawshank Redemption' and 'Inception':  [[0.19704257]]\n"
     ]
    },
    {
     "name": "stderr",
     "output_type": "stream",
     "text": [
      "C:\\Anaconda3\\lib\\site-packages\\sklearn\\feature_extraction\\text.py:1039: FutureWarning: Conversion of the second argument of issubdtype from `float` to `np.floating` is deprecated. In future, it will be treated as `np.float64 == np.dtype(float).type`.\n",
      "  if hasattr(X, 'dtype') and np.issubdtype(X.dtype, np.float):\n"
     ]
    }
   ],
   "source": [
    "with open('shawshank.txt', 'r', encoding = 'utf-8') as f:  # 읽기 모드('r')로 지정하고 인코딩은 'utf-8'로 설정한다\n",
    "    doc1 = ''  # 리뷰 데이터를 담기 위한 String 변수 생성\t\t\t\t\n",
    "    lines = f.readlines()  # 영화 리뷰 파일의 모든 라인을 읽어와 리스트로 저장\n",
    "    for line in lines:  # for문을 통해 lines에 있는 모든 텍스트를 doc1에 이어 붙임\n",
    "        doc1 += line\n",
    "    f.close()  # 파일을 닫는다\n",
    "\n",
    "with open('inception.txt', 'r', encoding= 'utf-8') as f:  # 읽기 모드('r')로 지정하고 인코딩은 'utf-8'로 설정한다\n",
    "    doc2 = ''  # 리뷰 데이터를 담기 위한 String 변수 생성\n",
    "    lines = f.readlines()  # 영화 리뷰 파일의 모든 라인을 읽어와 리스트로 저장\n",
    "    for line in lines:  # for문을 통해 lines에 있는 모든 텍스트를 doc2에 이어 붙임\n",
    "        doc2 += line\n",
    "    f.close()  # 파일을 닫는다\n",
    "    \n",
    "corpus = [doc1, doc2]  # doc1, doc2를 합쳐 corpus list를 생성\n",
    "vectorizer = TfidfVectorizer()  # TfidfVectorizer() 객체 변수 생성\n",
    "X = vectorizer.fit_transform(corpus).todense() # fit_transform()를 통해 corpus의 텍스트 데이터를 벡터화해 X에 저장하고 X를 dense한 matrix로 변환\n",
    "\n",
    "print(\"Similarity between 'The Shawshank Redemption' and 'Inception': \", cosine_similarity(X[0], X[1]))"
   ]
  },
  {
   "cell_type": "markdown",
   "metadata": {},
   "source": [
    "<br>\n",
    "<br>\n",
    "#### 2. 여러 영화 리뷰 텍스트 간 유사도 계산하기"
   ]
  },
  {
   "cell_type": "code",
   "execution_count": 21,
   "metadata": {
    "collapsed": true
   },
   "outputs": [],
   "source": [
    "# 유사도 분석에 필요한 패키지를 불러온다\n",
    "from sklearn.feature_extraction.text import TfidfVectorizer\n",
    "from sklearn.metrics.pairwise import cosine_similarity\n",
    "\n",
    "with open('shawshank.txt', 'r', encoding = 'utf-8') as f:  # 읽기 모드('r')로 지정하고 인코딩은 'utf-8'로 설정한다\n",
    "    doc1 = ''  # 리뷰 데이터를 담기 위한 String 변수 생성\n",
    "    lines = f.readlines()  # 영화 리뷰 파일의 모든 라인을 읽어와 리스트로 저장\n",
    "    for line in lines:  # for문을 통해 lines에 있는 모든 텍스트를 doc1에 이어 붙임\n",
    "        doc1 += line\n",
    "    f.close()  # 파일을 닫는다\n",
    "\n",
    "with open('godfather.txt', 'r', encoding= 'utf-8') as f:  # 읽기 모드('r')로 지정하고 인코딩은 'utf-8'로 설정한다\n",
    "    doc2 = ''  # 리뷰 데이터를 담기 위한 String 변수 생성\n",
    "    lines = f.readlines()  # 영화 리뷰 파일의 모든 라인을 읽어와 리스트로 저장\n",
    "    for line in lines:  # for문을 통해 lines에 있는 모든 텍스트를 doc2에 이어 붙임\n",
    "        doc2 += line\n",
    "    f.close()  # 파일을 닫는다\n",
    "    \n",
    "with open('inception.txt', 'r', encoding= 'utf-8') as f:  # 읽기 모드('r')로 지정하고 인코딩은 'utf-8'로 설정한다\n",
    "    doc3 = ''  # 리뷰 데이터를 담기 위한 String 변수 생성\n",
    "    lines = f.readlines()  # 영화 리뷰 파일의 모든 라인을 읽어와 리스트로 저장\n",
    "    for line in lines:  # for문을 통해 lines에 있는 모든 텍스트를 doc2에 이어 붙임\n",
    "        doc3 += line\n",
    "    f.close()  # 파일을 닫는다"
   ]
  },
  {
   "cell_type": "code",
   "execution_count": 22,
   "metadata": {
    "collapsed": true
   },
   "outputs": [],
   "source": [
    "corpus = [doc1, doc2, doc3]  # doc1, doc2, doc3를 합쳐 corpus list를 생성"
   ]
  },
  {
   "cell_type": "code",
   "execution_count": 23,
   "metadata": {
    "collapsed": true
   },
   "outputs": [],
   "source": [
    "vectorizer = TfidfVectorizer()  # TfidfVectorizer() 변수 생성"
   ]
  },
  {
   "cell_type": "code",
   "execution_count": 24,
   "metadata": {},
   "outputs": [
    {
     "name": "stderr",
     "output_type": "stream",
     "text": [
      "C:\\Anaconda3\\lib\\site-packages\\sklearn\\feature_extraction\\text.py:1039: FutureWarning: Conversion of the second argument of issubdtype from `float` to `np.floating` is deprecated. In future, it will be treated as `np.float64 == np.dtype(float).type`.\n",
      "  if hasattr(X, 'dtype') and np.issubdtype(X.dtype, np.float):\n"
     ]
    }
   ],
   "source": [
    "# fit_transform()를 통해 corpus의 텍스트 데이터를 벡터화해 X에 저장하고 X를 dense한 matrix로 변환\n",
    "X = vectorizer.fit_transform(corpus).todense()"
   ]
  },
  {
   "cell_type": "code",
   "execution_count": 25,
   "metadata": {},
   "outputs": [
    {
     "name": "stdout",
     "output_type": "stream",
     "text": [
      "Similarity between 'The Shawshank Redemption' and 'The Godfather':  [[0.93484399]]\n",
      "Similarity between 'The Shawshank Redemption' and 'Inception':  [[0.18080469]]\n",
      "Similarity between 'The Godfather' and 'Inception':  [[0.16267018]]\n"
     ]
    }
   ],
   "source": [
    "# 영화 간 cosine similarity 계산\n",
    "print(\"Similarity between 'The Shawshank Redemption' and 'The Godfather': \", cosine_similarity(X[0], X[1]))\n",
    "print(\"Similarity between 'The Shawshank Redemption' and 'Inception': \", cosine_similarity(X[0], X[2]))\n",
    "print(\"Similarity between 'The Godfather' and 'Inception': \", cosine_similarity(X[1], X[2]))"
   ]
  }
 ],
 "metadata": {
  "kernelspec": {
   "display_name": "Python 3",
   "language": "python",
   "name": "python3"
  },
  "language_info": {
   "codemirror_mode": {
    "name": "ipython",
    "version": 3
   },
   "file_extension": ".py",
   "mimetype": "text/x-python",
   "name": "python",
   "nbconvert_exporter": "python",
   "pygments_lexer": "ipython3",
   "version": "3.5.2"
  }
 },
 "nbformat": 4,
 "nbformat_minor": 2
}
