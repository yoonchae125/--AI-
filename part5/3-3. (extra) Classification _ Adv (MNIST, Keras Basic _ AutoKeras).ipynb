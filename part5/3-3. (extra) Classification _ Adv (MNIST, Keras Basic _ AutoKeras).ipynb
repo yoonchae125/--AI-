{
  "cells": [
    {
      "cell_type": "markdown",
      "source": [
        "### 추가 참고 : Automated Machine Learning with Auto-Keras @ http://j.mp/2xeG2c2"
      ],
      "metadata": {}
    },
    {
      "cell_type": "markdown",
      "source": [
        "#### A. Keras library 를 활용한 방법"
      ],
      "metadata": {}
    },
    {
      "cell_type": "code",
      "source": [
        "import tensorflow as tf\n",
        "from tensorflow.? import datasets, models, layers, utils, losses # tf.keras 에 필요한 함수들이 모여있습니다."
      ],
      "outputs": [],
      "execution_count": null,
      "metadata": {}
    },
    {
      "cell_type": "code",
      "source": [
        "import os\n",
        "os.environ['TF_CPP_MIN_LOG_LEVEL'] = '2' # https://stackoverflow.com/questions/35911252/disable-tensorflow-debugging-information"
      ],
      "outputs": [],
      "execution_count": null,
      "metadata": {}
    },
    {
      "cell_type": "markdown",
      "source": [
        "<br> \n",
        "\n",
        "#### 1. Prepare train & test data (MNIST)"
      ],
      "metadata": {}
    },
    {
      "cell_type": "markdown",
      "source": [
        "#### Train & Test split"
      ],
      "metadata": {}
    },
    {
      "cell_type": "code",
      "source": [
        "(train_data, train_label), (test_data, test_label) = datasets.mnist.load_data()\n",
        "\n",
        "print(train_data.shape) # # of training data == 60000, each data = 28px * 28px\n",
        "print(test_data.shape) # # of test data == 10000\n",
        "print(train_data.dtype) # int\n",
        "print(train_data.max()) # 0~255"
      ],
      "outputs": [],
      "execution_count": null,
      "metadata": {}
    },
    {
      "cell_type": "markdown",
      "source": [
        "#### Normalization"
      ],
      "metadata": {}
    },
    {
      "cell_type": "code",
      "source": [
        "train_data = train_data.reshape(60000, 784).astype('float32') / 255.0 # 0~255 -> 0~1\n",
        "test_data = test_data.reshape(10000, 784).astype('float32') / 255.0 # 0~255 -> 0~1"
      ],
      "outputs": [],
      "execution_count": null,
      "metadata": {}
    },
    {
      "cell_type": "markdown",
      "source": [
        "#### One-hot encoding"
      ],
      "metadata": {}
    },
    {
      "cell_type": "code",
      "source": [
        "train_label"
      ],
      "outputs": [],
      "execution_count": null,
      "metadata": {}
    },
    {
      "cell_type": "code",
      "source": [
        "train_label = utils.to_categorical(train_label) # 0~9 -> one-hot vector\n",
        "test_label = utils.to_categorical(test_label) # 0~9 -> one-hot vector"
      ],
      "outputs": [],
      "execution_count": null,
      "metadata": {}
    },
    {
      "cell_type": "markdown",
      "source": [
        "<br> \n",
        "\n",
        "#### 2. Build the model & Set the criterion "
      ],
      "metadata": {}
    },
    {
      "cell_type": "code",
      "source": [
        "model = models.?() # Build up the \"Sequence\" of layers (Linear stack of layers)"
      ],
      "outputs": [],
      "execution_count": null,
      "metadata": {}
    },
    {
      "cell_type": "code",
      "source": [
        "model.add(layers.?(input_dim=28*28, units=512, activation='?', kernel_initializer='?_uniform')) # Dense-layer (relu & he)\n",
        "model.add(layers.?(0.2)) # Dropout-layer\n",
        "model.add(layers.?(units=10, activation='?')) # (Output) Dense-layer with softmax function, 0~9 -> 10"
      ],
      "outputs": [],
      "execution_count": null,
      "metadata": {}
    },
    {
      "cell_type": "code",
      "source": [
        "# \"Compile\" the model description (Configures the model for training)\n",
        "model.?(optimizer='adam', \n",
        "              loss=losses.categorical_crossentropy, # See other available losses @ https://keras.io/losses/\n",
        "              metrics=['accuracy'])"
      ],
      "outputs": [],
      "execution_count": null,
      "metadata": {}
    },
    {
      "cell_type": "markdown",
      "source": [
        "<br> \n",
        "\n",
        "#### 3. Train the model"
      ],
      "metadata": {}
    },
    {
      "cell_type": "code",
      "source": [
        "# Fit the model on training data\n",
        "\n",
        "model.?(train_data, train_label, batch_size=100, epochs=10) # default batch_size = 32"
      ],
      "outputs": [],
      "execution_count": null,
      "metadata": {}
    },
    {
      "cell_type": "markdown",
      "source": [
        "<br> \n",
        "\n",
        "#### 4. Test the model"
      ],
      "metadata": {}
    },
    {
      "cell_type": "code",
      "source": [
        "# Evaluate the model on test data\n",
        "\n",
        "result = model.?(test_data, test_label, batch_size=100)"
      ],
      "outputs": [],
      "execution_count": null,
      "metadata": {}
    },
    {
      "cell_type": "code",
      "source": [
        "print('loss (cross-entropy) :', result[0])\n",
        "print('test accuracy :', result[1])"
      ],
      "outputs": [],
      "execution_count": null,
      "metadata": {}
    },
    {
      "cell_type": "markdown",
      "source": [
        "<br>\n",
        "\n",
        "#### B. Tensorflow 의 keras API 를 활용한 방법 (@ https://goo.gl/v8h2SH)"
      ],
      "metadata": {}
    },
    {
      "cell_type": "code",
      "source": [
        "import tensorflow as tf\n",
        "mnist = tf.keras.datasets.mnist\n",
        "\n",
        "(x_train, y_train),(x_test, y_test) = mnist.load_data()\n",
        "\n",
        "x_train, x_test = x_train / 255.0, x_test / 255.0\n",
        "# or\n",
        "# x_train = tf.keras.utils.normalize(x_train, axis=1)  # scales data between 0 and 1\n",
        "# x_test = tf.keras.utils.normalize(x_test, axis=1)  # scales data between 0 and 1\n",
        "\n",
        "model = tf.keras.models.Sequential()  # a basic feed-forward model\n",
        "model.add(tf.keras.layers.Flatten())  # takes our 28x28 and makes it 1x784\n",
        "model.add(tf.keras.layers.Dense(512, activation=tf.nn.relu))  # a simple fully-connected layer, 512 units, relu activation\n",
        "model.add(tf.keras.layers.Dropout(0.2))  \n",
        "model.add(tf.keras.layers.Dense(10, activation=tf.nn.softmax))  # our output layer. 10 units for 10 classes. Softmax for probability distribution\n",
        "# or\n",
        "# model = tf.keras.models.Sequential([\n",
        "#   tf.keras.layers.Flatten(),\n",
        "#   tf.keras.layers.Dense(512, activation=tf.nn.relu),\n",
        "#   tf.keras.layers.Dropout(0.2),\n",
        "#   tf.keras.layers.Dense(10, activation=tf.nn.softmax)\n",
        "# ])\n",
        "\n",
        "# if labels are not one-hot vectors, we should use \"sparse_categorical_crossentropy\" (http://j.mp/2XS0jmv)\n",
        "model.compile(optimizer='adam',  # Good default optimizer to start with\n",
        "              loss=losses.sparse_categorical_crossentropy,  # how will we calculate our \"error.\" Neural network aims to minimize loss.\n",
        "              metrics=['accuracy'])  # what to track\n",
        "\n",
        "model.fit(x_train, y_train, epochs=5)\n",
        "\n",
        "val_loss, val_acc = model.evaluate(x_test, y_test)  # evaluate the out of sample data with model\n",
        "print('loss (cross-entropy) :', val_loss)\n",
        "print('test accuracy :', val_acc)\n",
        "\n",
        "# import numpy as np\n",
        "# import matplotlib.pyplot as plt\n",
        "# predictions = model.predict(x_test)\n",
        "# print(np.argmax(predictions[0]))\n",
        "# plt.imshow(x_test[0],cmap=plt.cm.binary)\n",
        "# plt.show()"
      ],
      "outputs": [],
      "execution_count": null,
      "metadata": {}
    },
    {
      "cell_type": "markdown",
      "source": [
        "<br>\n",
        "\n",
        "#### C. AutoKeras 를 활용한 방법 (@ https://goo.gl/v8h2SH)"
      ],
      "metadata": {}
    },
    {
      "cell_type": "markdown",
      "source": [
        "**\\* PyTorch 및 AutoKeras 설치 & AutoKeras fitting 과정에 시간이 무척 많이 소요됩니다.**\n",
        "<br>**\\* 개발환경이 영향을 받을 수 있으니 Google Colab 에서 아래 코드를 실행해보는 것을 적극 권장합니다.**\n",
        "<br>**\\* 금일 실습을 마치고 추후 복습하실 때 살펴보세요.**\n",
        "<br><br>\n",
        "\n",
        "1) 먼저 OS에 맞는 pytorch를 설치해주어야 합니다. (아래 2가지 방식 중 택일, available pip whl files @ https://goo.gl/uYVaPa)\n",
        "\n",
        "1. conda install pytorch=0.4.1 -c pytorch (추천)\n",
        "2. pip install https://download.pytorch.org/whl/cpu/torch-0.4.1-cp36-cp36m-win_amd64.whl \n",
        "\n",
        "2) 그 다음 아래 명령어로 AutoKeras를 설치해줍니다.\n",
        "\n",
        "- pip install autokeras"
      ],
      "metadata": {}
    },
    {
      "cell_type": "code",
      "source": [
        "from keras import datasets, models, layers, utils\n",
        "(train_data, train_label), (test_data, test_label) = datasets.mnist.load_data()"
      ],
      "outputs": [],
      "execution_count": null,
      "metadata": {}
    },
    {
      "cell_type": "code",
      "source": [
        "import autokeras as ak\n",
        "\n",
        "model = ak.ImageClassifier() # It searches CNN architectures for the best configuration for the image dataset.\n",
        "model.fit(train_data, train_label, time_limit=3600) # time_limit: The time limit for the search in seconds.\n",
        "\n",
        "accuracy = model.evaluate(test_data, test_label)\n",
        "result = model.predict(test_data)\n",
        "\n",
        "print(accuracy)\n",
        "print(result)"
      ],
      "outputs": [],
      "execution_count": null,
      "metadata": {}
    },
    {
      "cell_type": "markdown",
      "source": [
        "<br>\n",
        "\n",
        "#### Appendix \n",
        "- Keras vs PyTorch @ https://goo.gl/ar5VPB"
      ],
      "metadata": {}
    }
  ],
  "metadata": {
    "kernel_info": {
      "name": "python3"
    },
    "kernelspec": {
      "name": "python3",
      "language": "python",
      "display_name": "Python 3"
    },
    "language_info": {
      "name": "python",
      "version": "3.7.3",
      "mimetype": "text/x-python",
      "codemirror_mode": {
        "name": "ipython",
        "version": 3
      },
      "pygments_lexer": "ipython3",
      "nbconvert_exporter": "python",
      "file_extension": ".py"
    },
    "nteract": {
      "version": "0.15.0"
    }
  },
  "nbformat": 4,
  "nbformat_minor": 2
}