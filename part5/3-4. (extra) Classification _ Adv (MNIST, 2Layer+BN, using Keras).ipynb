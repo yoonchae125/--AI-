{
 "cells": [
  {
   "cell_type": "code",
   "execution_count": 7,
   "metadata": {},
   "outputs": [],
   "source": [
    "import tensorflow as tf\n",
    "from tensorflow.keras import datasets, utils\n",
    "from tensorflow.keras import models, layers, activations, initializers, losses, optimizers, metrics\n",
    "\n",
    "import os\n",
    "tf.logging.set_verbosity(tf.logging.ERROR)\n",
    "os.environ['TF_CPP_MIN_LOG_LEVEL'] = '2' # https://stackoverflow.com/questions/35911252/disable-tensorflow-debugging-information"
   ]
  },
  {
   "cell_type": "markdown",
   "metadata": {},
   "source": [
    "<br> \n",
    "\n",
    "#### 1. Prepare train & test data (MNIST)"
   ]
  },
  {
   "cell_type": "markdown",
   "metadata": {},
   "source": [
    "#### Train & Test split"
   ]
  },
  {
   "cell_type": "code",
   "execution_count": 2,
   "metadata": {},
   "outputs": [
    {
     "name": "stdout",
     "output_type": "stream",
     "text": [
      "(60000, 28, 28)\n",
      "(10000, 28, 28)\n",
      "uint8\n",
      "255\n"
     ]
    }
   ],
   "source": [
    "(train_data, train_label), (test_data, test_label) = datasets.mnist.load_data()\n",
    "\n",
    "print(train_data.shape) # # of training data == 60000, each data = 28px * 28px\n",
    "print(test_data.shape) # # of test data == 10000\n",
    "print(train_data.dtype) # int\n",
    "print(train_data.max()) # 0~255"
   ]
  },
  {
   "cell_type": "markdown",
   "metadata": {},
   "source": [
    "#### Normalization"
   ]
  },
  {
   "cell_type": "code",
   "execution_count": 3,
   "metadata": {},
   "outputs": [],
   "source": [
    "train_data = train_data.reshape(60000, 784).astype('float32') / 255.0 # 0~255 -> 0~1\n",
    "test_data = test_data.reshape(10000, 784).astype('float32') / 255.0 # 0~255 -> 0~1"
   ]
  },
  {
   "cell_type": "markdown",
   "metadata": {},
   "source": [
    "#### One-hot encoding"
   ]
  },
  {
   "cell_type": "code",
   "execution_count": 4,
   "metadata": {},
   "outputs": [],
   "source": [
    "train_label = utils.to_categorical(train_label) # 0~9 -> one-hot vector\n",
    "test_label = utils.to_categorical(test_label) # 0~9 -> one-hot vector"
   ]
  },
  {
   "cell_type": "markdown",
   "metadata": {},
   "source": [
    "<br> \n",
    "\n",
    "#### 2. Build the model & Set the criterion"
   ]
  },
  {
   "cell_type": "code",
   "execution_count": 9,
   "metadata": {},
   "outputs": [],
   "source": [
    "model = models.Sequential() \n",
    "\n",
    "model.add(layers.Dense(input_dim=28*28, units=256, activation=None, kernel_initializer=initializers.he_uniform())) \n",
    "model.add(layers.BatchNormalization())\n",
    "model.add(layers.Activation('relu')) # layers.ELU or layers.LeakyReLU\n",
    "model.add(layers.Dropout(rate=0.2))\n",
    "\n",
    "model.add(layers.Dense(units=256, activation=None, kernel_initializer=initializers.he_uniform())) \n",
    "model.add(layers.BatchNormalization())\n",
    "model.add(layers.Activation('relu')) # layers.ELU or layers.LeakyReLU\n",
    "model.add(layers.Dropout(rate=0.2))\n",
    "\n",
    "model.add(layers.Dense(units=10, activation='softmax')) # 0~9 "
   ]
  },
  {
   "cell_type": "code",
   "execution_count": 17,
   "metadata": {},
   "outputs": [],
   "source": [
    "model.compile(optimizer=optimizers.Adam(), \n",
    "              loss=losses.categorical_crossentropy, \n",
    "              metrics=[metrics.categorical_accuracy]) "
   ]
  },
  {
   "cell_type": "markdown",
   "metadata": {},
   "source": [
    "<br> \n",
    "\n",
    "#### 3. Train the model"
   ]
  },
  {
   "cell_type": "code",
   "execution_count": 18,
   "metadata": {},
   "outputs": [
    {
     "name": "stdout",
     "output_type": "stream",
     "text": [
      "Train on 48000 samples, validate on 12000 samples\n",
      "Epoch 1/15\n",
      "48000/48000 [==============================] - 7s 142us/sample - loss: 0.0261 - categorical_accuracy: 0.9914 - val_loss: 0.0766 - val_categorical_accuracy: 0.9805\n",
      "Epoch 2/15\n",
      "48000/48000 [==============================] - 5s 102us/sample - loss: 0.0269 - categorical_accuracy: 0.9910 - val_loss: 0.0714 - val_categorical_accuracy: 0.9814\n",
      "Epoch 3/15\n",
      "48000/48000 [==============================] - 5s 101us/sample - loss: 0.0238 - categorical_accuracy: 0.9920 - val_loss: 0.0676 - val_categorical_accuracy: 0.9823\n",
      "Epoch 4/15\n",
      "48000/48000 [==============================] - 5s 104us/sample - loss: 0.0198 - categorical_accuracy: 0.9934 - val_loss: 0.0740 - val_categorical_accuracy: 0.9817\n",
      "Epoch 5/15\n",
      "48000/48000 [==============================] - 5s 105us/sample - loss: 0.0233 - categorical_accuracy: 0.9925 - val_loss: 0.0715 - val_categorical_accuracy: 0.9816\n",
      "Epoch 6/15\n",
      "48000/48000 [==============================] - 5s 113us/sample - loss: 0.0213 - categorical_accuracy: 0.9925 - val_loss: 0.0756 - val_categorical_accuracy: 0.9813\n",
      "Epoch 7/15\n",
      "48000/48000 [==============================] - 5s 107us/sample - loss: 0.0169 - categorical_accuracy: 0.9935 - val_loss: 0.0663 - val_categorical_accuracy: 0.9831\n",
      "Epoch 8/15\n",
      "48000/48000 [==============================] - 5s 111us/sample - loss: 0.0186 - categorical_accuracy: 0.9937 - val_loss: 0.0721 - val_categorical_accuracy: 0.9825\n",
      "Epoch 9/15\n",
      "48000/48000 [==============================] - 5s 113us/sample - loss: 0.0167 - categorical_accuracy: 0.9942 - val_loss: 0.0756 - val_categorical_accuracy: 0.9828\n",
      "Epoch 10/15\n",
      "48000/48000 [==============================] - 6s 117us/sample - loss: 0.0158 - categorical_accuracy: 0.9948 - val_loss: 0.0778 - val_categorical_accuracy: 0.9827\n",
      "Epoch 11/15\n",
      "48000/48000 [==============================] - 6s 117us/sample - loss: 0.0161 - categorical_accuracy: 0.9946 - val_loss: 0.0837 - val_categorical_accuracy: 0.9818\n",
      "Epoch 12/15\n",
      "48000/48000 [==============================] - 6s 117us/sample - loss: 0.0176 - categorical_accuracy: 0.9937 - val_loss: 0.0746 - val_categorical_accuracy: 0.9827\n",
      "Epoch 13/15\n",
      "48000/48000 [==============================] - 5s 112us/sample - loss: 0.0165 - categorical_accuracy: 0.9943 - val_loss: 0.0832 - val_categorical_accuracy: 0.9824\n",
      "Epoch 14/15\n",
      "48000/48000 [==============================] - 5s 112us/sample - loss: 0.0156 - categorical_accuracy: 0.9946 - val_loss: 0.0771 - val_categorical_accuracy: 0.9827\n",
      "Epoch 15/15\n",
      "48000/48000 [==============================] - 5s 112us/sample - loss: 0.0131 - categorical_accuracy: 0.9954 - val_loss: 0.0815 - val_categorical_accuracy: 0.9838\n"
     ]
    }
   ],
   "source": [
    "history = model.fit(train_data, train_label, batch_size=100, epochs=15, validation_split=0.2) "
   ]
  },
  {
   "cell_type": "markdown",
   "metadata": {},
   "source": [
    "<br> \n",
    "\n",
    "#### 4. Test the model"
   ]
  },
  {
   "cell_type": "code",
   "execution_count": 28,
   "metadata": {
    "scrolled": true
   },
   "outputs": [
    {
     "name": "stdout",
     "output_type": "stream",
     "text": [
      "10000/10000 [==============================] - 0s 30us/sample - loss: 0.0742 - categorical_accuracy: 0.9832\n",
      "loss (cross-entropy) : 0.07417870403982335\n",
      "test accuracy : 0.9832\n"
     ]
    }
   ],
   "source": [
    "result = model.evaluate(test_data, test_label, batch_size=100)\n",
    "\n",
    "print('loss (cross-entropy) :', result[0])\n",
    "print('test accuracy :', result[1])"
   ]
  },
  {
   "cell_type": "markdown",
   "metadata": {},
   "source": [
    "<br> \n",
    "\n",
    "#### 5. Visualize the result"
   ]
  },
  {
   "cell_type": "code",
   "execution_count": 25,
   "metadata": {},
   "outputs": [
    {
     "data": {
      "text/plain": [
       "dict_keys(['loss', 'categorical_accuracy', 'val_loss', 'val_categorical_accuracy'])"
      ]
     },
     "execution_count": 25,
     "metadata": {},
     "output_type": "execute_result"
    }
   ],
   "source": [
    "history.history.keys()"
   ]
  },
  {
   "cell_type": "code",
   "execution_count": 30,
   "metadata": {},
   "outputs": [
    {
     "data": {
      "image/png": "[encoded data removed]",
      "text/plain": [
       "<Figure size 432x288 with 1 Axes>"
      ]
     },
     "metadata": {
      "needs_background": "light"
     },
     "output_type": "display_data"
    }
   ],
   "source": [
    "val_acc = history.history['val_categorical_accuracy']\n",
    "acc = history.history['categorical_accuracy']\n",
    "\n",
    "import numpy as np\n",
    "import matplotlib.pyplot as plt\n",
    "\n",
    "x_len = np.arange(len(acc))\n",
    "plt.plot(x_len, acc, marker='.', c='blue', label=\"Train-set Acc.\")\n",
    "plt.plot(x_len, val_acc, marker='.', c='red', label=\"Validation-set Acc.\")\n",
    "\n",
    "plt.legend(loc='upper right')\n",
    "plt.grid()\n",
    "plt.xlabel('epoch')\n",
    "plt.ylabel('Accuracy')\n",
    "plt.show()"
   ]
  }
 ],
 "metadata": {
  "kernel_info": {
   "name": "python3"
  },
  "kernelspec": {
   "display_name": "Python 3",
   "language": "python",
   "name": "python3"
  },
  "language_info": {
   "codemirror_mode": {
    "name": "ipython",
    "version": 3
   },
   "file_extension": ".py",
   "mimetype": "text/x-python",
   "name": "python",
   "nbconvert_exporter": "python",
   "pygments_lexer": "ipython3",
   "version": "3.7.3"
  },
  "nteract": {
   "version": "0.14.3"
  }
 },
 "nbformat": 4,
 "nbformat_minor": 2
}
