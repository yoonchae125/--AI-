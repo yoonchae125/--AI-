{
 "cells": [
  {
   "cell_type": "markdown",
   "metadata": {},
   "source": [
    "#### Text Data Exploration & Visualization \n",
    "- http://www.nltk.org/api/nltk.html#nltk.text.Text"
   ]
  },
  {
   "cell_type": "markdown",
   "metadata": {},
   "source": [
    "<br>\n",
    "#### 1. 가장 많이 등장하는 단어 추출하기"
   ]
  },
  {
   "cell_type": "markdown",
   "metadata": {},
   "source": [
    "#### 1) 영화 Dark Knight 리뷰에서 많이 등장하는 명사 추출하기"
   ]
  },
  {
   "cell_type": "code",
   "execution_count": 1,
   "metadata": {
    "scrolled": true
   },
   "outputs": [
    {
     "name": "stdout",
     "output_type": "stream",
     "text": [
      "[('movie', 405), ('batman', 303), ('film', 283), ('joker', 219), ('dark', 138), ('ledger', 131), ('knight', 123), ('time', 112), ('heath', 110), ('performance', 87)]\n"
     ]
    }
   ],
   "source": [
    "import nltk\n",
    "from nltk.corpus import stopwords\n",
    "from collections import Counter\n",
    "\n",
    "# 1) Stopwords 준비하기\n",
    "stop_words = stopwords.words(\"english\")\n",
    "stop_words.append(',')\n",
    "stop_words.append('.')\n",
    "stop_words.append('’')\n",
    "stop_words.append('”')\n",
    "stop_words.append('—')\n",
    "\n",
    "# 2) Text data 준비하기\n",
    "with open('darkknight.txt', 'r', encoding=\"utf-8\") as f:  # 읽기 형식('r')로 지정하고 인코딩은 'utf-8'로 설정한다\n",
    "    lines = f.readlines()  # readlines 함수로 텍스트 파일의 내용을 읽어 리스트로 저장한다\n",
    "    f.close()  # 파일을 닫는다\n",
    "\n",
    "tokens = []\n",
    "wordList = []\n",
    "\n",
    "# 3) Tokenizing\n",
    "for line in lines:  # for문을 통해 각 줄에 접근한다\n",
    "    tokenized = nltk.word_tokenize(line)  # 각 줄을 tokenize한다\n",
    "    for token in tokenized:\n",
    "        if token.lower() not in stop_words:\n",
    "            tokens.append(token)\n",
    "\n",
    "# 4) POS Tagging - 명사 종류만 모으기\n",
    "tags = nltk.pos_tag(tokens)  # tokenize한 결과를 품사 태깅한다\n",
    "for word, tag in tags:  # for 문을 통해 각각의 (단어, 태그) 쌍에 접근\n",
    "    if tag in ['NN', 'NNS', 'NNP', 'NNPS']:  # 만약 태그가 명사 종류이면:\n",
    "        wordList.append(word.lower())  # 소문자로 변환한 후 리스트에 첨부한다\n",
    "\n",
    "counts = Counter(wordList)  # 각 명사의 숫자를 센 결과를 변수에 저장한다 (Counter -> {'home': 15, '단어':출현횟수, ...})\n",
    "# print(counts)\n",
    "print(counts.most_common(10))  # 가장 많이 등장한 10개 명사를 출력한다"
   ]
  },
  {
   "cell_type": "markdown",
   "metadata": {},
   "source": [
    "#### 2) 영화 Dark Knight 리뷰에서 많이 등장하는 형용사 추출하기"
   ]
  },
  {
   "cell_type": "code",
   "execution_count": 2,
   "metadata": {
    "scrolled": true
   },
   "outputs": [
    {
     "name": "stdout",
     "output_type": "stream",
     "text": [
      "[('good', 141), ('great', 78), ('many', 54), ('much', 52), ('comic', 43), ('real', 29), ('bad', 28), ('little', 26), ('new', 25), ('last', 22)]\n"
     ]
    }
   ],
   "source": [
    "import nltk\n",
    "from nltk.corpus import stopwords\n",
    "from collections import Counter\n",
    "\n",
    "# 1) Stopwords 준비하기\n",
    "stop_words = stopwords.words(\"english\")\n",
    "stop_words.append(',')\n",
    "stop_words.append('.')\n",
    "stop_words.append('’')\n",
    "stop_words.append('”')\n",
    "stop_words.append('—')\n",
    "\n",
    "# 2) Text data 준비하기\n",
    "with open('darkknight.txt', 'r', encoding=\"utf-8\") as f:  # 읽기 형식('r')로 지정하고 인코딩은 'utf-8'로 설정한다\n",
    "    lines = f.readlines()  # readlines 함수로 텍스트 파일의 내용을 읽어 리스트로 저장한다\n",
    "    f.close()  # 파일을 닫는다\n",
    "\n",
    "tokens = []\n",
    "wordList = []\n",
    "\n",
    "# 3) Tokenizing\n",
    "for line in lines:  # for문을 통해 각 줄에 접근한다\n",
    "    tokenized = nltk.word_tokenize(line)  # 각 줄을 tokenize한다\n",
    "    for token in tokenized:\n",
    "        if token.lower() not in stop_words:\n",
    "            tokens.append(token)\n",
    "\n",
    "# 4) POS Tagging - 형용사 종류만 모으기\n",
    "tags = nltk.pos_tag(tokens)  # tokenize한 결과를 품사 태깅한다\n",
    "for word, tag in tags:  # for 문을 통해 각각의 (단어, 태그) 쌍에 접근\n",
    "    if tag in ['JJ', 'JJR', 'JS']:  # 만약 태그가 형용사 종류이면:\n",
    "        wordList.append(word.lower())  # 소문자로 변환한 후 리스트에 첨부한다\n",
    "\n",
    "counts = Counter(wordList)  # 각 형용사의 숫자를 센 결과를 변수에 저장한다 (Counter -> {'home': 15, '단어':출현횟수, ...})\n",
    "# print(counts)\n",
    "print(counts.most_common(10))  # 가장 많이 등장한 10개 형용사를 출력한다"
   ]
  },
  {
   "cell_type": "markdown",
   "metadata": {},
   "source": [
    "#### 3) 영화 Dark Knight 리뷰에서 많이 등장하는 동사 추출하기"
   ]
  },
  {
   "cell_type": "code",
   "execution_count": 3,
   "metadata": {
    "scrolled": true
   },
   "outputs": [
    {
     "name": "stdout",
     "output_type": "stream",
     "text": [
      "[('see', 59), ('get', 53), ('made', 49), ('think', 45), ('seen', 45), ('make', 45), ('say', 41), (\"'ve\", 37), (\"'m\", 32), ('go', 30)]\n"
     ]
    }
   ],
   "source": [
    "import nltk\n",
    "from nltk.corpus import stopwords\n",
    "from collections import Counter\n",
    "\n",
    "# 1) Stopwords 준비하기\n",
    "stop_words = stopwords.words(\"english\")\n",
    "stop_words.append(',')\n",
    "stop_words.append('.')\n",
    "stop_words.append('’')\n",
    "stop_words.append('”')\n",
    "stop_words.append('—')\n",
    "\n",
    "# 2) Text data 준비하기\n",
    "with open('darkknight.txt', 'r', encoding=\"utf-8\") as f:  # 읽기 형식('r')로 지정하고 인코딩은 'utf-8'로 설정한다\n",
    "    lines = f.readlines()  # readlines 함수로 텍스트 파일의 내용을 읽어 리스트로 저장한다\n",
    "    f.close()  # 파일을 닫는다\n",
    "\n",
    "tokens = []\n",
    "wordList = []\n",
    "\n",
    "# 3) Tokenizing\n",
    "for line in lines:  # for문을 통해 각 줄에 접근한다\n",
    "    tokenized = nltk.word_tokenize(line)  # 각 줄을 tokenize한다\n",
    "    for token in tokenized:\n",
    "        if token.lower() not in stop_words:\n",
    "            tokens.append(token)\n",
    "\n",
    "# 4) POS Tagging - 동사 종류만 모으기\n",
    "tags = nltk.pos_tag(tokens)  # tokenize한 결과를 품사 태깅한다\n",
    "for word, tag in tags:  # for 문을 통해 각각의 (단어, 태그) 쌍에 접근\n",
    "    if tag in ['VB', 'VBD', 'VBN', 'VBP', 'VBZ']:  # 만약 태그가 동사 종류이면:\n",
    "        wordList.append(word.lower())  # 소문자로 변환한 후 리스트에 첨부한다\n",
    "\n",
    "counts = Counter(wordList)  # 각 동사의 숫자를 센 결과를 변수에 저장한다 (Counter -> {'home': 15, '단어':출현횟수, ...})\n",
    "# print(counts)\n",
    "print(counts.most_common(10))  # 가장 많이 등장한 10개 동사를 출력한다"
   ]
  },
  {
   "cell_type": "markdown",
   "metadata": {},
   "source": [
    "<br>\n",
    "<br>\n",
    "#### 2. 영화 Dark Knight 리뷰에서 등장하는 토큰 개수 확인하기"
   ]
  },
  {
   "cell_type": "code",
   "execution_count": 4,
   "metadata": {
    "scrolled": true
   },
   "outputs": [
    {
     "name": "stdout",
     "output_type": "stream",
     "text": [
      "18437\n",
      "4655\n"
     ]
    }
   ],
   "source": [
    "import nltk\n",
    "from nltk.corpus import stopwords\n",
    "\n",
    "stop_words = stopwords.words(\"english\")\n",
    "stop_words.append(',')\n",
    "stop_words.append('.')\n",
    "stop_words.append('’')\n",
    "stop_words.append('”')\n",
    "stop_words.append('—')\n",
    "stop_words.append('else')\n",
    "stop_words.append('$')\n",
    "\n",
    "with open('darkknight.txt', 'r', encoding=\"utf-8\") as f:  # 읽기 형식('r')로 지정하고 인코딩은 'utf-8'로 설정한다\n",
    "    lines = f.readlines()  # readlines 함수로 텍스트 파일의 내용을 읽어 리스트로 저장한다\n",
    "    f.close()  # 파일을 닫는다\n",
    "\n",
    "tokens = []\n",
    "\n",
    "for line in lines:  # for문을 통해 각 줄에 접근한다\n",
    "    tokenized = nltk.word_tokenize(line)  # 각 줄을 tokenize한다\n",
    "    for token in tokenized:\n",
    "        if token.lower() not in stop_words:\n",
    "            tokens.append(token)\n",
    "\n",
    "corpus = nltk.Text(tokens) \n",
    "print(len(corpus.tokens))  # 전체 token의 개수를 출력한다\n",
    "print(len(set(corpus.tokens)))  # unique한 token의 개수를 출력한다"
   ]
  },
  {
   "cell_type": "markdown",
   "metadata": {},
   "source": [
    "<br>\n",
    "<br>\n",
    "#### 3. 토큰의 등장 횟수 시각화하기"
   ]
  },
  {
   "cell_type": "code",
   "execution_count": 5,
   "metadata": {
    "scrolled": true
   },
   "outputs": [
    {
     "data": {
      "image/png": "[encoded data removed]",
      "text/plain": [
       "<matplotlib.figure.Figure at 0x15a9d908>"
      ]
     },
     "metadata": {},
     "output_type": "display_data"
    }
   ],
   "source": [
    "import nltk\n",
    "from nltk.corpus import stopwords\n",
    "from collections import Counter\n",
    "import matplotlib.pyplot as plt\n",
    "import re\n",
    "\n",
    "stop_words = stopwords.words(\"english\")\n",
    "stop_words.append('else')\n",
    "\n",
    "with open('darkknight.txt', 'r', encoding=\"utf-8\") as f:  # 읽기 형식('r')로 지정하고 인코딩은 'utf-8'로 설정한다\n",
    "    lines = f.readlines()  # readlines 함수로 텍스트 파일의 내용을 읽어 리스트로 저장한다\n",
    "    f.close()  # 파일을 닫는다\n",
    "    \n",
    "tokens = []\n",
    "\n",
    "for line in lines:  # for문을 통해 각 줄에 접근한다\n",
    "    tokenized = nltk.word_tokenize(line)  # 각 줄을 tokenize한다\n",
    "    for token in tokenized: # 각 Token이\n",
    "        if token.lower() not in stop_words: # Stopwords 리스트에 포함되어 있지 않으며,\n",
    "            if re.match('^[a-zA-Z]+', token): # 특수 기호에 해당하지 않을 경우,\n",
    "                tokens.append(token) # Token list 에 추가해준다.\n",
    "        \n",
    "corpus = nltk.Text(tokens) \n",
    "plt.figure(figsize=(10, 3)) \n",
    "plt.title('Top 25 Words',fontsize=30)\n",
    "corpus.plot(25) # 25개까지만 확인"
   ]
  },
  {
   "cell_type": "markdown",
   "metadata": {},
   "source": [
    "<br>\n",
    "<br>\n",
    "#### 4. 문맥 상 유사한 단어 출력하기"
   ]
  },
  {
   "cell_type": "code",
   "execution_count": 6,
   "metadata": {
    "scrolled": true
   },
   "outputs": [
    {
     "name": "stdout",
     "output_type": "stream",
     "text": [
      "Similar words : \n",
      "superhero action better character film movie iconic end come heath\n",
      "forever stolen another second best director villain storyline good\n",
      "render\n"
     ]
    }
   ],
   "source": [
    "import nltk\n",
    "from nltk.corpus import stopwords\n",
    "from collections import Counter\n",
    "import matplotlib.pyplot as plt\n",
    "import re\n",
    "\n",
    "stop_words = stopwords.words(\"english\")\n",
    "stop_words.append('else')\n",
    "\n",
    "with open('darkknight.txt', 'r', encoding=\"utf-8\") as f:  # 읽기 형식('r')로 지정하고 인코딩은 'utf-8'로 설정한다\n",
    "    lines = f.readlines()  # readlines 함수로 텍스트 파일의 내용을 읽어 리스트로 저장한다\n",
    "    f.close()  # 파일을 닫는다\n",
    "    \n",
    "tokens = []\n",
    "\n",
    "for line in lines:  # for문을 통해 각 줄에 접근한다\n",
    "    tokenized = nltk.word_tokenize(line)  # 각 줄을 tokenize한다\n",
    "    for token in tokenized: # 각 Token이\n",
    "        if token.lower() not in stop_words: # Stopwords 리스트에 포함되어 있지 않으며,\n",
    "            if re.match('^[a-zA-Z]+', token): # 특수 기호에 해당하지 않을 경우,\n",
    "                tokens.append(token) # Token list 에 추가해준다.\n",
    "        \n",
    "corpus = nltk.Text(tokens) \n",
    "\n",
    "print('Similar words : ')\n",
    "corpus.similar('batman') "
   ]
  },
  {
   "cell_type": "markdown",
   "metadata": {},
   "source": [
    "<br>\n",
    "<br>\n",
    "#### 5. 텍스트의 연어(collocation) 출력하기"
   ]
  },
  {
   "cell_type": "code",
   "execution_count": 7,
   "metadata": {
    "scrolled": true
   },
   "outputs": [
    {
     "name": "stdout",
     "output_type": "stream",
     "text": [
      "Collocation\n",
      "Dark Knight; Heath Ledger; Christian Bale; comic book; Harvey Dent;\n",
      "Christopher Nolan; Bruce Wayne; Aaron Eckhart; Morgan Freeman; Gary\n",
      "Oldman; Batman Begins; Two Face; Gotham City; Maggie Gyllenhaal;\n",
      "Rachel Dawes; Michael Caine; special effect; Tim Burton; Jack\n",
      "Nicholson; dark knight\n"
     ]
    }
   ],
   "source": [
    "import nltk\n",
    "from nltk.corpus import stopwords\n",
    "from collections import Counter\n",
    "import matplotlib.pyplot as plt\n",
    "import re\n",
    "\n",
    "stop_words = stopwords.words(\"english\")\n",
    "stop_words.append('else')\n",
    "\n",
    "with open('darkknight.txt', 'r', encoding=\"utf-8\") as f:  # 읽기 형식('r')로 지정하고 인코딩은 'utf-8'로 설정한다\n",
    "    lines = f.readlines()  # readlines 함수로 텍스트 파일의 내용을 읽어 리스트로 저장한다\n",
    "    f.close()  # 파일을 닫는다\n",
    "    \n",
    "tokens = []\n",
    "\n",
    "for line in lines:  # for문을 통해 각 줄에 접근한다\n",
    "    tokenized = nltk.word_tokenize(line)  # 각 줄을 tokenize한다\n",
    "    for token in tokenized: # 각 Token이\n",
    "        if token.lower() not in stop_words: # Stopwords 리스트에 포함되어 있지 않으며,\n",
    "            if re.match('^[a-zA-Z]+', token): # 특수 기호에 해당하지 않을 경우,\n",
    "                tokens.append(token) # Token list 에 추가해준다.\n",
    "        \n",
    "corpus = nltk.Text(tokens) \n",
    "\n",
    "print('Collocation')\n",
    "corpus.collocations() "
   ]
  },
  {
   "cell_type": "code",
   "execution_count": null,
   "metadata": {
    "collapsed": true
   },
   "outputs": [],
   "source": []
  }
 ],
 "metadata": {
  "kernelspec": {
   "display_name": "Python 3",
   "language": "python",
   "name": "python3"
  },
  "language_info": {
   "codemirror_mode": {
    "name": "ipython",
    "version": 3
   },
   "file_extension": ".py",
   "mimetype": "text/x-python",
   "name": "python",
   "nbconvert_exporter": "python",
   "pygments_lexer": "ipython3",
   "version": "3.5.2"
  }
 },
 "nbformat": 4,
 "nbformat_minor": 2
}
