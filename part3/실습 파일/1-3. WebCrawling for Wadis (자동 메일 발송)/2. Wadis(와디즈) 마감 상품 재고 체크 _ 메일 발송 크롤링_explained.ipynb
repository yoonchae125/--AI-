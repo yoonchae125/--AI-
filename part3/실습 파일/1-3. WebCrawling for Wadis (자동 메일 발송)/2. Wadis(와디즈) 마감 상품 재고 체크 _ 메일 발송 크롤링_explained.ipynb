{
 "cells": [
  {
   "cell_type": "code",
   "execution_count": 1,
   "metadata": {},
   "outputs": [],
   "source": [
    "import time\n",
    "from urllib.request import urlopen # url 웹페이지 오픈\n",
    "from bs4 import BeautifulSoup"
   ]
  },
  {
   "cell_type": "markdown",
   "metadata": {},
   "source": [
    "<br>\n",
    "\n",
    "#### 1. 메일 발송을 위한 세팅 및 함수 선언"
   ]
  },
  {
   "cell_type": "code",
   "execution_count": 2,
   "metadata": {},
   "outputs": [],
   "source": [
    "# 참고하여 지메일 사전 세팅 필요 @ https://goo.gl/ET1RMc\n",
    "\n",
    "import smtplib\n",
    "from email.mime.text import MIMEText\n",
    "\n",
    "def sendMail(sender, receiver, msg):\n",
    "    smtp = smtplib.SMTP_SSL('smtp.gmail.com', 465)\n",
    "    smtp.login(sender, '?????') # 지메일 \"앱 비밀번호\" 를 입력해주세요.\n",
    "    msg = MIMEText(msg)\n",
    "    msg['Subject'] = 'Product is available!'\n",
    "    smtp.sendmail(sender, receiver, msg.as_string())\n",
    "    smtp.quit()"
   ]
  },
  {
   "cell_type": "markdown",
   "metadata": {},
   "source": [
    "<br>\n",
    "\n",
    "#### 2. 와디즈 프로젝트 웹페이지 소스코드 로딩"
   ]
  },
  {
   "cell_type": "code",
   "execution_count": 3,
   "metadata": {},
   "outputs": [],
   "source": [
    "url = 'https://www.wadiz.kr/web/campaign/detail/41278'"
   ]
  },
  {
   "cell_type": "code",
   "execution_count": 5,
   "metadata": {},
   "outputs": [],
   "source": [
    "webpage = urlopen(url)\n",
    "source = BeautifulSoup(webpage, 'html.parser')\n",
    "\n",
    "target = source.find_all('button', {'class':'rightinfo-reward-list'})"
   ]
  },
  {
   "cell_type": "markdown",
   "metadata": {},
   "source": [
    "<br>\n",
    "\n",
    "#### 3-1. button 태그로부터 특정 펀딩 가격 텍스트 뽑아내기"
   ]
  },
  {
   "cell_type": "code",
   "execution_count": 9,
   "metadata": {},
   "outputs": [
    {
     "data": {
      "text/plain": [
       "<button class=\"rightinfo-reward-list ing\" onclick=\"backMoney('103219', 'false')\">\n",
       "<div class=\"top-info\">\n",
       "<dl class=\"reward-info\">\n",
       "<dt>\n",
       "                        41,000원 펀딩\n",
       "                      </dt>\n",
       "<dd>\n",
       "<p class=\"reward-name\">스페셜 얼리버드 [싱글]</p>\n",
       "<p>구성제품 룸바냅 단품 1개<br/>[스페셜 얼리버드 51% 혜택]<br/><br/>*오로라 퍼플은 9월 말 배송 예정입니다</p>\n",
       "</dd>\n",
       "</dl>\n",
       "<ul class=\"data-info\">\n",
       "<li class=\"shipping\" style=\"width: 100%; margin-bottom: 5px;\">배송비<em>2,500원</em></li>\n",
       "<li class=\"date\" style=\"width: 100%;\">리워드 발송 시작일\n",
       "                      \n",
       "                      \n",
       "                      \n",
       "                        \n",
       "                        \n",
       "                        <em>2019년 10월 말 (21~말일) 예정</em>\n",
       "</li>\n",
       "</ul>\n",
       "<p class=\"reward-qty\">제한수량 <strong>1400</strong>개   <em>현재 934개 남음!</em></p>\n",
       "<p class=\"reward-soldcount\">총 <strong>466</strong>개 펀딩완료</p>\n",
       "</div>\n",
       "<p class=\"hover-text\">이 리워드 펀딩하기</p>\n",
       "</button>"
      ]
     },
     "execution_count": 9,
     "metadata": {},
     "output_type": "execute_result"
    }
   ],
   "source": [
    "target[0]"
   ]
  },
  {
   "cell_type": "code",
   "execution_count": 11,
   "metadata": {},
   "outputs": [
    {
     "data": {
      "text/plain": [
       "'41,000원 펀딩'"
      ]
     },
     "execution_count": 11,
     "metadata": {},
     "output_type": "execute_result"
    }
   ],
   "source": [
    "# <button>.find('dt').text.strip() == '41,000원 펀딩':\n",
    "target[0].find('dt').text.strip()"
   ]
  },
  {
   "cell_type": "markdown",
   "metadata": {},
   "source": [
    "<br>\n",
    "\n",
    "#### 3-2. button 태그로부터 class attribute 값 뽑아내기"
   ]
  },
  {
   "cell_type": "code",
   "execution_count": 10,
   "metadata": {},
   "outputs": [
    {
     "data": {
      "text/plain": [
       "{'class': ['rightinfo-reward-list', 'ing'],\n",
       " 'onclick': \"backMoney('103219', 'false')\"}"
      ]
     },
     "execution_count": 10,
     "metadata": {},
     "output_type": "execute_result"
    }
   ],
   "source": [
    "target[0].attrs"
   ]
  },
  {
   "cell_type": "code",
   "execution_count": 12,
   "metadata": {},
   "outputs": [
    {
     "data": {
      "text/plain": [
       "2"
      ]
     },
     "execution_count": 12,
     "metadata": {},
     "output_type": "execute_result"
    }
   ],
   "source": [
    "# len(<button>.attrs['class']) == 2:\n",
    "len(target[0].attrs['class'])"
   ]
  },
  {
   "cell_type": "markdown",
   "metadata": {},
   "source": [
    "\n",
    "#### 4. 실제 크롤링 코드 구현 \n",
    "<br>\n",
    "\n",
    "- button 태그 내부의 펀딩 가격 텍스트를 기준으로 **특정한 가격을 가진 button 태그를 찾고**,\n",
    "- 해당 **button 태그의 class attribute의 value가 특정한 갯수가 되었을 시**,\n",
    "- 미리 선언해 둔 **메일 발송 함수를 실행** \n",
    "- 위 조건이 만족되기 전에는 check_status의 값이 1로 유지되어 계속해서 while 문을 돌게 됨"
   ]
  },
  {
   "cell_type": "code",
   "execution_count": null,
   "metadata": {},
   "outputs": [],
   "source": [
    "check_status = 1\n",
    "\n",
    "while check_status == 1:\n",
    "    webpage = urlopen(url)\n",
    "    source = BeautifulSoup(webpage, 'html.parser')\n",
    "    target = source.findAll('button', {'class':'rightinfo-reward-list'})\n",
    "    \n",
    "    for item in target: # 각각의 버튼마다 \n",
    "        if item.find('dt').text.strip() == '99,800원 펀딩': # 금액 텍스트를 체크해서 '99,800원 펀딩'이라고 쓰여져 있을 경우\n",
    "            if len(item.attrs['class']) == 2: # 해당 태그에 매겨져 있는 class의 갯수가 2개일 경우,\n",
    "                sendMail('repositivator@gmail.com', 'repositivator@gmail.com', '99800 Available \\n https://goo.gl/wG8v1F')\n",
    "                check_status = 0\n",
    "    time.sleep(10)"
   ]
  },
  {
   "cell_type": "code",
   "execution_count": null,
   "metadata": {},
   "outputs": [],
   "source": [
    "# sendMail('repositivator@gmail.com', 'repositivator@gmail.com', 'Crawler stopped!')"
   ]
  }
 ],
 "metadata": {
  "kernelspec": {
   "display_name": "Python 3",
   "language": "python",
   "name": "python3"
  },
  "language_info": {
   "codemirror_mode": {
    "name": "ipython",
    "version": 3
   },
   "file_extension": ".py",
   "mimetype": "text/x-python",
   "name": "python",
   "nbconvert_exporter": "python",
   "pygments_lexer": "ipython3",
   "version": "3.7.3"
  }
 },
 "nbformat": 4,
 "nbformat_minor": 2
}
