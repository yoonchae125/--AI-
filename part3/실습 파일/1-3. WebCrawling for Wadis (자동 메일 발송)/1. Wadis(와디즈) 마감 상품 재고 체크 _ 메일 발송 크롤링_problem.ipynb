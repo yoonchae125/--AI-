{
 "cells": [
  {
   "cell_type": "code",
   "execution_count": 1,
   "metadata": {},
   "outputs": [],
   "source": [
    "import time\n",
    "from urllib.request import urlopen \n",
    "from bs4 import BeautifulSoup"
   ]
  },
  {
   "cell_type": "code",
   "execution_count": 2,
   "metadata": {},
   "outputs": [],
   "source": [
    "# 참고하여 지메일 사전 세팅 필요 @ https://goo.gl/ET1RMc\n",
    "\n",
    "import smtplib\n",
    "from email.mime.text import MIMEText\n",
    "\n",
    "def sendMail(sender, receiver, msg):\n",
    "    smtp = smtplib.SMTP_SSL('smtp.gmail.com', 465)\n",
    "    smtp.login(sender, '?????') # 지메일 \"앱 비밀번호\" 를 입력해주세요.\n",
    "    msg = MIMEText(msg)\n",
    "    msg['Subject'] = 'Product is available!'\n",
    "    smtp.sendmail(sender, receiver, msg.as_string())\n",
    "    smtp.quit()"
   ]
  },
  {
   "cell_type": "code",
   "execution_count": 3,
   "metadata": {},
   "outputs": [],
   "source": [
    "url = 'https://www.wadiz.kr/web/campaign/detail/41278'"
   ]
  },
  {
   "cell_type": "code",
   "execution_count": 5,
   "metadata": {},
   "outputs": [],
   "source": [
    "webpage = urlopen(url)\n",
    "source = BeautifulSoup(webpage, 'html.parser')\n",
    "\n",
    "target = source.find_all('button', {'class':'rightinfo-reward-list'})"
   ]
  },
  {
   "cell_type": "code",
   "execution_count": null,
   "metadata": {},
   "outputs": [],
   "source": [
    "check_status = 1\n",
    "\n",
    "while check_status == 1:\n",
    "    webpage = urlopen(url)\n",
    "    source = BeautifulSoup(webpage, 'html.parser')\n",
    "    target = source.findAll('button', {'class':'rightinfo-reward-list'})\n",
    "    \n",
    "    for item in target: \n",
    "        if item.find('dt').text.strip() == '99,800원 펀딩': \n",
    "            if len(item.attrs['class']) == 2: \n",
    "                sendMail('repositivator@gmail.com', 'repositivator@gmail.com', '99800 Available \\n https://goo.gl/wG8v1F')\n",
    "                check_status = 0\n",
    "    time.sleep(10)"
   ]
  }
 ],
 "metadata": {
  "kernelspec": {
   "display_name": "Python 3",
   "language": "python",
   "name": "python3"
  },
  "language_info": {
   "codemirror_mode": {
    "name": "ipython",
    "version": 3
   },
   "file_extension": ".py",
   "mimetype": "text/x-python",
   "name": "python",
   "nbconvert_exporter": "python",
   "pygments_lexer": "ipython3",
   "version": "3.7.3"
  }
 },
 "nbformat": 4,
 "nbformat_minor": 2
}
