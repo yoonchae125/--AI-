{
 "cells": [
  {
   "cell_type": "code",
   "execution_count": 2,
   "metadata": {},
   "outputs": [
    {
     "name": "stderr",
     "output_type": "stream",
     "text": [
      "/Users/chaeyoon/opt/anaconda3/lib/python3.7/site-packages/tensorflow/python/framework/dtypes.py:526: FutureWarning: Passing (type, 1) or '1type' as a synonym of type is deprecated; in a future version of numpy, it will be understood as (type, (1,)) / '(1,)type'.\n",
      "  _np_qint8 = np.dtype([(\"qint8\", np.int8, 1)])\n",
      "/Users/chaeyoon/opt/anaconda3/lib/python3.7/site-packages/tensorflow/python/framework/dtypes.py:527: FutureWarning: Passing (type, 1) or '1type' as a synonym of type is deprecated; in a future version of numpy, it will be understood as (type, (1,)) / '(1,)type'.\n",
      "  _np_quint8 = np.dtype([(\"quint8\", np.uint8, 1)])\n",
      "/Users/chaeyoon/opt/anaconda3/lib/python3.7/site-packages/tensorflow/python/framework/dtypes.py:528: FutureWarning: Passing (type, 1) or '1type' as a synonym of type is deprecated; in a future version of numpy, it will be understood as (type, (1,)) / '(1,)type'.\n",
      "  _np_qint16 = np.dtype([(\"qint16\", np.int16, 1)])\n",
      "/Users/chaeyoon/opt/anaconda3/lib/python3.7/site-packages/tensorflow/python/framework/dtypes.py:529: FutureWarning: Passing (type, 1) or '1type' as a synonym of type is deprecated; in a future version of numpy, it will be understood as (type, (1,)) / '(1,)type'.\n",
      "  _np_quint16 = np.dtype([(\"quint16\", np.uint16, 1)])\n",
      "/Users/chaeyoon/opt/anaconda3/lib/python3.7/site-packages/tensorflow/python/framework/dtypes.py:530: FutureWarning: Passing (type, 1) or '1type' as a synonym of type is deprecated; in a future version of numpy, it will be understood as (type, (1,)) / '(1,)type'.\n",
      "  _np_qint32 = np.dtype([(\"qint32\", np.int32, 1)])\n",
      "/Users/chaeyoon/opt/anaconda3/lib/python3.7/site-packages/tensorflow/python/framework/dtypes.py:535: FutureWarning: Passing (type, 1) or '1type' as a synonym of type is deprecated; in a future version of numpy, it will be understood as (type, (1,)) / '(1,)type'.\n",
      "  np_resource = np.dtype([(\"resource\", np.ubyte, 1)])\n"
     ]
    }
   ],
   "source": [
    "import tensorflow as tf\n",
    "from tensorflow.keras import datasets, utils\n",
    "from tensorflow.keras import models, layers, activations, initializers, losses, optimizers, metrics\n",
    "\n",
    "import os\n",
    "tf.logging.set_verbosity(tf.logging.ERROR)\n",
    "os.environ['TF_CPP_MIN_LOG_LEVEL'] = '2' # https://stackoverflow.com/questions/35911252/disable-tensorflow-debugging-information"
   ]
  },
  {
   "cell_type": "markdown",
   "metadata": {},
   "source": [
    "<br> \n",
    "\n",
    "#### 1. Prepare train & test data (MNIST)"
   ]
  },
  {
   "cell_type": "markdown",
   "metadata": {},
   "source": [
    "#### Train & Test split"
   ]
  },
  {
   "cell_type": "code",
   "execution_count": 3,
   "metadata": {},
   "outputs": [
    {
     "name": "stdout",
     "output_type": "stream",
     "text": [
      "(60000, 28, 28)\n",
      "(10000, 28, 28)\n",
      "uint8\n",
      "255\n"
     ]
    }
   ],
   "source": [
    "(train_data, train_label), (test_data, test_label) = datasets.mnist.load_data()\n",
    "\n",
    "print(train_data.shape) # # of training data == 60000, each data = 28px * 28px\n",
    "print(test_data.shape) # # of test data == 10000\n",
    "print(train_data.dtype) # int\n",
    "print(train_data.max()) # 0~255"
   ]
  },
  {
   "cell_type": "markdown",
   "metadata": {},
   "source": [
    "#### Normalization"
   ]
  },
  {
   "cell_type": "code",
   "execution_count": 4,
   "metadata": {},
   "outputs": [],
   "source": [
    "train_data = train_data.reshape(60000, 784).astype('float32') / 255.0 # 0~255 -> 0~1\n",
    "test_data = test_data.reshape(10000, 784).astype('float32') / 255.0 # 0~255 -> 0~1"
   ]
  },
  {
   "cell_type": "markdown",
   "metadata": {},
   "source": [
    "#### One-hot encoding"
   ]
  },
  {
   "cell_type": "code",
   "execution_count": 5,
   "metadata": {},
   "outputs": [],
   "source": [
    "train_label = utils.to_categorical(train_label) # 0~9 -> one-hot vector\n",
    "test_label = utils.to_categorical(test_label) # 0~9 -> one-hot vector"
   ]
  },
  {
   "cell_type": "markdown",
   "metadata": {},
   "source": [
    "<br> \n",
    "\n",
    "#### 2. Build the model & Set the criterion"
   ]
  },
  {
   "cell_type": "code",
   "execution_count": 6,
   "metadata": {},
   "outputs": [],
   "source": [
    "model = models.Sequential() \n",
    "\n",
    "model.add(layers.Dense(input_dim=28*28, units=256, activation=None, kernel_initializer=initializers.he_uniform())) \n",
    "model.add(layers.BatchNormalization())\n",
    "model.add(layers.Activation('relu')) # layers.ELU or layers.LeakyReLU\n",
    "model.add(layers.Dropout(rate=0.2))\n",
    "\n",
    "model.add(layers.Dense(units=256, activation=None, kernel_initializer=initializers.he_uniform())) \n",
    "model.add(layers.BatchNormalization())\n",
    "model.add(layers.Activation('relu')) # layers.ELU or layers.LeakyReLU\n",
    "model.add(layers.Dropout(rate=0.2))\n",
    "\n",
    "model.add(layers.Dense(units=10, activation='softmax')) # 0~9 "
   ]
  },
  {
   "cell_type": "code",
   "execution_count": 7,
   "metadata": {},
   "outputs": [],
   "source": [
    "model.compile(optimizer=optimizers.Adam(), \n",
    "              loss=losses.categorical_crossentropy, \n",
    "              metrics=[metrics.categorical_accuracy]) "
   ]
  },
  {
   "cell_type": "markdown",
   "metadata": {},
   "source": [
    "<br> \n",
    "\n",
    "#### 3. Train the model"
   ]
  },
  {
   "cell_type": "code",
   "execution_count": 8,
   "metadata": {
    "scrolled": true
   },
   "outputs": [
    {
     "name": "stdout",
     "output_type": "stream",
     "text": [
      "Train on 48000 samples, validate on 12000 samples\n",
      "Epoch 1/15\n",
      "48000/48000 [==============================] - 17s 347us/sample - loss: 0.3043 - categorical_accuracy: 0.9083 - val_loss: 0.1233 - val_categorical_accuracy: 0.9639\n",
      "Epoch 2/15\n",
      "48000/48000 [==============================] - 14s 298us/sample - loss: 0.1416 - categorical_accuracy: 0.9569 - val_loss: 0.1020 - val_categorical_accuracy: 0.9693\n",
      "Epoch 3/15\n",
      "48000/48000 [==============================] - 12s 251us/sample - loss: 0.1028 - categorical_accuracy: 0.9678 - val_loss: 0.0839 - val_categorical_accuracy: 0.9746\n",
      "Epoch 4/15\n",
      "48000/48000 [==============================] - 8s 170us/sample - loss: 0.0828 - categorical_accuracy: 0.9740 - val_loss: 0.0870 - val_categorical_accuracy: 0.9743\n",
      "Epoch 5/15\n",
      "48000/48000 [==============================] - 8s 170us/sample - loss: 0.0697 - categorical_accuracy: 0.9778 - val_loss: 0.0770 - val_categorical_accuracy: 0.9781\n",
      "Epoch 6/15\n",
      "48000/48000 [==============================] - 8s 173us/sample - loss: 0.0610 - categorical_accuracy: 0.9802 - val_loss: 0.0768 - val_categorical_accuracy: 0.9778\n",
      "Epoch 7/15\n",
      "48000/48000 [==============================] - 9s 180us/sample - loss: 0.0531 - categorical_accuracy: 0.9824 - val_loss: 0.0730 - val_categorical_accuracy: 0.9778\n",
      "Epoch 8/15\n",
      "48000/48000 [==============================] - 8s 173us/sample - loss: 0.0469 - categorical_accuracy: 0.9838 - val_loss: 0.0838 - val_categorical_accuracy: 0.9747\n",
      "Epoch 9/15\n",
      "48000/48000 [==============================] - 8s 173us/sample - loss: 0.0429 - categorical_accuracy: 0.9862 - val_loss: 0.0735 - val_categorical_accuracy: 0.9787\n",
      "Epoch 10/15\n",
      "48000/48000 [==============================] - 8s 172us/sample - loss: 0.0390 - categorical_accuracy: 0.9865 - val_loss: 0.0725 - val_categorical_accuracy: 0.9791\n",
      "Epoch 11/15\n",
      "48000/48000 [==============================] - 8s 173us/sample - loss: 0.0350 - categorical_accuracy: 0.9877 - val_loss: 0.0756 - val_categorical_accuracy: 0.9791\n",
      "Epoch 12/15\n",
      "48000/48000 [==============================] - 9s 179us/sample - loss: 0.0349 - categorical_accuracy: 0.9879 - val_loss: 0.0732 - val_categorical_accuracy: 0.9797\n",
      "Epoch 13/15\n",
      "48000/48000 [==============================] - 8s 175us/sample - loss: 0.0299 - categorical_accuracy: 0.9899 - val_loss: 0.0796 - val_categorical_accuracy: 0.9793\n",
      "Epoch 14/15\n",
      "48000/48000 [==============================] - 8s 173us/sample - loss: 0.0297 - categorical_accuracy: 0.9895 - val_loss: 0.0769 - val_categorical_accuracy: 0.9809\n",
      "Epoch 15/15\n",
      "48000/48000 [==============================] - 8s 166us/sample - loss: 0.0266 - categorical_accuracy: 0.9916 - val_loss: 0.0763 - val_categorical_accuracy: 0.9815\n"
     ]
    }
   ],
   "source": [
    "history = model.fit(train_data, train_label, batch_size=100, epochs=15, validation_split=0.2) "
   ]
  },
  {
   "cell_type": "markdown",
   "metadata": {},
   "source": [
    "<br> \n",
    "\n",
    "#### 4. Test the model"
   ]
  },
  {
   "cell_type": "code",
   "execution_count": 9,
   "metadata": {
    "scrolled": true
   },
   "outputs": [
    {
     "name": "stdout",
     "output_type": "stream",
     "text": [
      "10000/10000 [==============================] - 0s 34us/sample - loss: 0.0712 - categorical_accuracy: 0.9809\n",
      "loss (cross-entropy) : 0.0711962073620998\n",
      "test accuracy : 0.9809\n"
     ]
    }
   ],
   "source": [
    "result = model.evaluate(test_data, test_label, batch_size=100)\n",
    "\n",
    "print('loss (cross-entropy) :', result[0])\n",
    "print('test accuracy :', result[1])"
   ]
  },
  {
   "cell_type": "markdown",
   "metadata": {},
   "source": [
    "<br> \n",
    "\n",
    "#### 5. Visualize the result"
   ]
  },
  {
   "cell_type": "code",
   "execution_count": 10,
   "metadata": {},
   "outputs": [
    {
     "data": {
      "text/plain": [
       "dict_keys(['loss', 'categorical_accuracy', 'val_loss', 'val_categorical_accuracy'])"
      ]
     },
     "execution_count": 10,
     "metadata": {},
     "output_type": "execute_result"
    }
   ],
   "source": [
    "history.history.keys()"
   ]
  },
  {
   "cell_type": "code",
   "execution_count": null,
   "metadata": {},
   "outputs": [],
   "source": [
    "val_acc = history.history['val_categorical_accuracy']\n",
    "acc = history.history['categorical_accuracy']\n",
    "\n",
    "import numpy as np\n",
    "import matplotlib.pyplot as plt\n",
    "\n",
    "x_len = np.arange(len(acc))\n",
    "plt.plot(x_len, acc, marker='.', c='blue', label=\"Train-set Acc.\")\n",
    "plt.plot(x_len, val_acc, marker='.', c='red', label=\"Validation-set Acc.\")\n",
    "\n",
    "plt.legend(loc='upper right')\n",
    "plt.grid()\n",
    "plt.xlabel('epoch')\n",
    "plt.ylabel('Accuracy')\n",
    "plt.show()"
   ]
  },
  {
   "cell_type": "code",
   "execution_count": null,
   "metadata": {},
   "outputs": [],
   "source": []
  }
 ],
 "metadata": {
  "kernel_info": {
   "name": "python3"
  },
  "kernelspec": {
   "display_name": "Python 3",
   "language": "python",
   "name": "python3"
  },
  "language_info": {
   "codemirror_mode": {
    "name": "ipython",
    "version": 3
   },
   "file_extension": ".py",
   "mimetype": "text/x-python",
   "name": "python",
   "nbconvert_exporter": "python",
   "pygments_lexer": "ipython3",
   "version": "3.7.4"
  },
  "nteract": {
   "version": "0.14.3"
  }
 },
 "nbformat": 4,
 "nbformat_minor": 2
}
