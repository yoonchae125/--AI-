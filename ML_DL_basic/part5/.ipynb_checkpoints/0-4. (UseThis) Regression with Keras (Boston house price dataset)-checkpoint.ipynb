{
 "cells": [
  {
   "cell_type": "markdown",
   "metadata": {},
   "source": [
    "<br>\n",
    "\n",
    "## 1. Data loading & preprocessing"
   ]
  },
  {
   "cell_type": "code",
   "execution_count": 1,
   "metadata": {},
   "outputs": [],
   "source": [
    "import pandas as pd\n",
    "import numpy as np\n",
    "import matplotlib.pyplot as plt\n",
    "from sklearn import datasets, preprocessing"
   ]
  },
  {
   "cell_type": "code",
   "execution_count": 2,
   "metadata": {},
   "outputs": [
    {
     "name": "stdout",
     "output_type": "stream",
     "text": [
      "(506, 13)\n",
      "(506, 1)\n"
     ]
    }
   ],
   "source": [
    "x_data = datasets.load_boston().data \n",
    "y_data = datasets.load_boston().target # 집의 가격 (in $1,000s)\n",
    "\n",
    "sc = preprocessing.StandardScaler() # Apply standard scaling on x_data\n",
    "x_data = sc.fit_transform(x_data)\n",
    "y_data = np.reshape(y_data, (len(y_data), 1))\n",
    "\n",
    "print(x_data.shape)\n",
    "print(y_data.shape)"
   ]
  },
  {
   "cell_type": "markdown",
   "metadata": {},
   "source": [
    "<br>\n",
    "\n",
    "## 2. Devide dataframe into X & Y -> Train X / Test X / Train Y / Test Y"
   ]
  },
  {
   "cell_type": "code",
   "execution_count": 3,
   "metadata": {},
   "outputs": [
    {
     "name": "stdout",
     "output_type": "stream",
     "text": [
      "(354, 13)\n",
      "(152, 13)\n",
      "(354, 1)\n",
      "(152, 1)\n"
     ]
    }
   ],
   "source": [
    "from sklearn import model_selection\n",
    "train_data, test_data, train_label, test_label = model_selection.train_test_split(x_data, y_data,\n",
    "                                                                                 test_size=0.3,\n",
    "                                                                                 random_state=0)\n",
    "print(train_data.shape)\n",
    "print(test_data.shape)\n",
    "print(train_label.shape)\n",
    "print(test_label.shape)"
   ]
  },
  {
   "cell_type": "markdown",
   "metadata": {},
   "source": [
    "<br>\n",
    "\n",
    "## 3. Build & Train the model "
   ]
  },
  {
   "cell_type": "code",
   "execution_count": 4,
   "metadata": {},
   "outputs": [
    {
     "name": "stderr",
     "output_type": "stream",
     "text": [
      "/Users/chaeyoon/opt/anaconda3/lib/python3.7/site-packages/tensorflow/python/framework/dtypes.py:526: FutureWarning: Passing (type, 1) or '1type' as a synonym of type is deprecated; in a future version of numpy, it will be understood as (type, (1,)) / '(1,)type'.\n",
      "  _np_qint8 = np.dtype([(\"qint8\", np.int8, 1)])\n",
      "/Users/chaeyoon/opt/anaconda3/lib/python3.7/site-packages/tensorflow/python/framework/dtypes.py:527: FutureWarning: Passing (type, 1) or '1type' as a synonym of type is deprecated; in a future version of numpy, it will be understood as (type, (1,)) / '(1,)type'.\n",
      "  _np_quint8 = np.dtype([(\"quint8\", np.uint8, 1)])\n",
      "/Users/chaeyoon/opt/anaconda3/lib/python3.7/site-packages/tensorflow/python/framework/dtypes.py:528: FutureWarning: Passing (type, 1) or '1type' as a synonym of type is deprecated; in a future version of numpy, it will be understood as (type, (1,)) / '(1,)type'.\n",
      "  _np_qint16 = np.dtype([(\"qint16\", np.int16, 1)])\n",
      "/Users/chaeyoon/opt/anaconda3/lib/python3.7/site-packages/tensorflow/python/framework/dtypes.py:529: FutureWarning: Passing (type, 1) or '1type' as a synonym of type is deprecated; in a future version of numpy, it will be understood as (type, (1,)) / '(1,)type'.\n",
      "  _np_quint16 = np.dtype([(\"quint16\", np.uint16, 1)])\n",
      "/Users/chaeyoon/opt/anaconda3/lib/python3.7/site-packages/tensorflow/python/framework/dtypes.py:530: FutureWarning: Passing (type, 1) or '1type' as a synonym of type is deprecated; in a future version of numpy, it will be understood as (type, (1,)) / '(1,)type'.\n",
      "  _np_qint32 = np.dtype([(\"qint32\", np.int32, 1)])\n",
      "/Users/chaeyoon/opt/anaconda3/lib/python3.7/site-packages/tensorflow/python/framework/dtypes.py:535: FutureWarning: Passing (type, 1) or '1type' as a synonym of type is deprecated; in a future version of numpy, it will be understood as (type, (1,)) / '(1,)type'.\n",
      "  np_resource = np.dtype([(\"resource\", np.ubyte, 1)])\n"
     ]
    }
   ],
   "source": [
    "import tensorflow as tf\n",
    "from tensorflow.keras import datasets, utils\n",
    "from tensorflow.keras import models, layers, activations, initializers, losses, optimizers, metrics\n",
    "\n",
    "import os\n",
    "tf.logging.set_verbosity(tf.logging.ERROR)\n",
    "os.environ['TF_CPP_MIN_LOG_LEVEL'] = '2' # https://stackoverflow.com/questions/35911252/disable-tensorflow-debugging-information"
   ]
  },
  {
   "cell_type": "code",
   "execution_count": 5,
   "metadata": {},
   "outputs": [],
   "source": [
    "model = models.Sequential() \n",
    "\n",
    "model.add(layers.Dense(input_dim=13, units=64, activation=None, kernel_initializer=initializers.he_uniform())) \n",
    "# model.add(layers.BatchNormalization()) # Use this line as if needed\n",
    "model.add(layers.Activation('elu')) # layers.ELU or layers.LeakyReLU\n",
    "\n",
    "model.add(layers.Dense(units=64, activation=None, kernel_initializer=initializers.he_uniform())) \n",
    "model.add(layers.Activation('elu'))\n",
    "\n",
    "model.add(layers.Dense(units=32, activation=None, kernel_initializer=initializers.he_uniform())) \n",
    "model.add(layers.Activation('elu'))\n",
    "model.add(layers.Dropout(rate=0.4))\n",
    "\n",
    "model.add(layers.Dense(units=1, activation=None)) # One-hot vector for 0 & 1"
   ]
  },
  {
   "cell_type": "code",
   "execution_count": 6,
   "metadata": {},
   "outputs": [],
   "source": [
    "model.compile(optimizer=optimizers.Adam(), \n",
    "              loss=losses.mean_squared_error, \n",
    "              metrics=[metrics.mean_squared_error]) "
   ]
  },
  {
   "cell_type": "code",
   "execution_count": 7,
   "metadata": {},
   "outputs": [],
   "source": [
    "history = model.fit(train_data, train_label, batch_size=100, epochs=1000, validation_split=0.3, verbose=0) "
   ]
  },
  {
   "cell_type": "code",
   "execution_count": 8,
   "metadata": {},
   "outputs": [
    {
     "name": "stdout",
     "output_type": "stream",
     "text": [
      "152/152 [==============================] - 0s 51us/sample - loss: 14.6781 - mean_squared_error: 14.6781\n",
      "loss (mean_squared_error) : 14.678126134370503\n"
     ]
    }
   ],
   "source": [
    "result = model.evaluate(test_data, test_label) # , batch_size=100\n",
    "\n",
    "print('loss (mean_squared_error) :', result[0])"
   ]
  },
  {
   "cell_type": "code",
   "execution_count": 9,
   "metadata": {},
   "outputs": [
    {
     "data": {
      "image/png": "[encoded data removed]",
      "text/plain": [
       "<Figure size 432x288 with 1 Axes>"
      ]
     },
     "metadata": {
      "needs_background": "light"
     },
     "output_type": "display_data"
    }
   ],
   "source": [
    "val_loss = history.history['val_mean_squared_error']\n",
    "loss = history.history['mean_squared_error']\n",
    "\n",
    "import numpy as np\n",
    "import matplotlib.pyplot as plt\n",
    "\n",
    "x_len = np.arange(len(loss))\n",
    "plt.plot(x_len, loss, marker='.', c='blue', label=\"Train-set loss.\")\n",
    "plt.plot(x_len, val_loss, marker='.', c='red', label=\"Validation-set loss.\")\n",
    "\n",
    "plt.legend(loc='upper right')\n",
    "plt.grid()\n",
    "plt.xlabel('epoch')\n",
    "plt.ylabel('Loss(MSE)')\n",
    "plt.show()"
   ]
  },
  {
   "cell_type": "code",
   "execution_count": 10,
   "metadata": {},
   "outputs": [
    {
     "data": {
      "image/png": "[encoded data removed]",
      "text/plain": [
       "<Figure size 432x288 with 1 Axes>"
      ]
     },
     "metadata": {
      "needs_background": "light"
     },
     "output_type": "display_data"
    }
   ],
   "source": [
    "val_loss = history.history['val_mean_squared_error']\n",
    "loss = history.history['mean_squared_error']\n",
    "\n",
    "import numpy as np\n",
    "import matplotlib.pyplot as plt\n",
    "\n",
    "x_len = np.arange(len(loss))\n",
    "plt.plot(x_len[200:], loss[200:], marker='.', c='blue', label=\"Train-set loss.\")\n",
    "plt.plot(x_len[200:], val_loss[200:], marker='.', c='red', label=\"Validation-set loss.\")\n",
    "\n",
    "plt.legend(loc='upper right')\n",
    "plt.grid()\n",
    "plt.xlabel('epoch')\n",
    "plt.ylabel('Loss(MSE)')\n",
    "plt.show()"
   ]
  },
  {
   "cell_type": "code",
   "execution_count": 11,
   "metadata": {},
   "outputs": [
    {
     "data": {
      "text/plain": [
       "array([[23.37564  ],\n",
       "       [30.685879 ],\n",
       "       [22.731312 ],\n",
       "       [ 9.986689 ],\n",
       "       [19.462965 ],\n",
       "       [19.411314 ],\n",
       "       [22.901768 ],\n",
       "       [20.738415 ],\n",
       "       [17.021782 ],\n",
       "       [18.46688  ],\n",
       "       [16.043943 ],\n",
       "       [ 9.998712 ],\n",
       "       [16.5947   ],\n",
       "       [ 6.9120917],\n",
       "       [36.387142 ],\n",
       "       [35.206516 ],\n",
       "       [23.97388  ],\n",
       "       [37.547974 ],\n",
       "       [31.707512 ],\n",
       "       [20.873293 ],\n",
       "       [22.897669 ],\n",
       "       [19.818398 ],\n",
       "       [19.977922 ],\n",
       "       [27.092411 ],\n",
       "       [19.762558 ],\n",
       "       [24.810242 ],\n",
       "       [16.694845 ],\n",
       "       [16.375988 ],\n",
       "       [40.82247  ],\n",
       "       [17.470676 ],\n",
       "       [15.974066 ],\n",
       "       [17.615643 ],\n",
       "       [19.448223 ],\n",
       "       [19.70248  ],\n",
       "       [26.861595 ],\n",
       "       [25.996748 ],\n",
       "       [ 6.3817687],\n",
       "       [47.33945  ],\n",
       "       [12.8289585],\n",
       "       [16.15145  ],\n",
       "       [23.70501  ],\n",
       "       [20.774742 ],\n",
       "       [19.78773  ],\n",
       "       [18.424957 ],\n",
       "       [21.305904 ],\n",
       "       [23.557339 ],\n",
       "       [19.24155  ],\n",
       "       [10.028531 ],\n",
       "       [12.082688 ],\n",
       "       [22.193134 ],\n",
       "       [12.029556 ],\n",
       "       [23.443123 ],\n",
       "       [21.818108 ],\n",
       "       [44.287067 ],\n",
       "       [16.4083   ],\n",
       "       [18.361763 ],\n",
       "       [18.236534 ],\n",
       "       [18.111519 ],\n",
       "       [25.96461  ],\n",
       "       [20.298634 ],\n",
       "       [21.394373 ],\n",
       "       [19.880333 ],\n",
       "       [34.243885 ],\n",
       "       [32.036587 ],\n",
       "       [20.49815  ],\n",
       "       [29.978344 ],\n",
       "       [17.70694  ],\n",
       "       [19.96993  ],\n",
       "       [14.391599 ],\n",
       "       [22.65864  ],\n",
       "       [18.832516 ],\n",
       "       [21.389282 ],\n",
       "       [27.618622 ],\n",
       "       [30.678202 ],\n",
       "       [26.5068   ],\n",
       "       [ 6.0254803],\n",
       "       [41.24083  ],\n",
       "       [22.362743 ],\n",
       "       [26.664938 ],\n",
       "       [17.676266 ],\n",
       "       [25.972668 ],\n",
       "       [19.652676 ],\n",
       "       [25.796051 ],\n",
       "       [42.035046 ],\n",
       "       [44.48363  ],\n",
       "       [22.223873 ],\n",
       "       [24.635612 ],\n",
       "       [10.597007 ],\n",
       "       [26.529146 ],\n",
       "       [16.600594 ],\n",
       "       [18.968327 ],\n",
       "       [10.576247 ],\n",
       "       [21.65086  ],\n",
       "       [29.646631 ],\n",
       "       [21.690449 ],\n",
       "       [20.93362  ],\n",
       "       [13.186446 ],\n",
       "       [23.624573 ],\n",
       "       [13.063073 ],\n",
       "       [16.13946  ],\n",
       "       [25.170227 ],\n",
       "       [19.22976  ],\n",
       "       [28.37912  ],\n",
       "       [20.995995 ],\n",
       "       [26.918833 ],\n",
       "       [18.515078 ],\n",
       "       [ 9.038809 ],\n",
       "       [17.39169  ],\n",
       "       [21.726013 ],\n",
       "       [26.00563  ],\n",
       "       [37.720387 ],\n",
       "       [15.1837225],\n",
       "       [19.31273  ],\n",
       "       [18.604012 ],\n",
       "       [14.363032 ],\n",
       "       [22.003292 ],\n",
       "       [ 7.9993277],\n",
       "       [21.405716 ],\n",
       "       [12.196741 ],\n",
       "       [49.013893 ],\n",
       "       [29.813904 ],\n",
       "       [12.404031 ],\n",
       "       [18.208225 ],\n",
       "       [19.187029 ],\n",
       "       [19.182825 ],\n",
       "       [19.134422 ],\n",
       "       [35.059692 ],\n",
       "       [14.741384 ],\n",
       "       [19.0196   ],\n",
       "       [32.837025 ],\n",
       "       [15.81093  ],\n",
       "       [ 8.72394  ],\n",
       "       [24.225279 ],\n",
       "       [20.71102  ],\n",
       "       [ 9.043064 ],\n",
       "       [35.942173 ],\n",
       "       [22.566711 ],\n",
       "       [ 7.15981  ],\n",
       "       [27.642326 ],\n",
       "       [ 7.8774323],\n",
       "       [ 9.244477 ],\n",
       "       [22.56255  ],\n",
       "       [37.23195  ],\n",
       "       [26.0309   ],\n",
       "       [26.869373 ],\n",
       "       [14.833289 ],\n",
       "       [37.558376 ],\n",
       "       [33.230045 ],\n",
       "       [11.299858 ],\n",
       "       [ 8.062322 ],\n",
       "       [24.44294  ],\n",
       "       [26.472986 ]], dtype=float32)"
      ]
     },
     "execution_count": 11,
     "metadata": {},
     "output_type": "execute_result"
    }
   ],
   "source": [
    "# Prediction on test data\n",
    "model.predict(test_data)"
   ]
  }
 ],
 "metadata": {
  "kernelspec": {
   "display_name": "Python 3",
   "language": "python",
   "name": "python3"
  },
  "language_info": {
   "codemirror_mode": {
    "name": "ipython",
    "version": 3
   },
   "file_extension": ".py",
   "mimetype": "text/x-python",
   "name": "python",
   "nbconvert_exporter": "python",
   "pygments_lexer": "ipython3",
   "version": "3.7.4"
  }
 },
 "nbformat": 4,
 "nbformat_minor": 2
}
