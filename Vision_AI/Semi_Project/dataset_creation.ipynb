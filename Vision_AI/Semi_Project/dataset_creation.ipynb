{
 "cells": [
  {
   "cell_type": "code",
   "execution_count": null,
   "metadata": {},
   "outputs": [],
   "source": [
    "import numpy as np\n",
    "import os\n",
    "import cv2\n",
    "\n",
    "face_cascade = cv2.CascadeClassifier('F:\\\\opencv\\\\opencv-master\\\\data\\\\haarcascades\\\\haarcascade_frontalface_default.xml')\n",
    "\n",
    "cap = cv2.VideoCapture(0)\n",
    "path = \"F:\\\\opencv\\\\face recognisation\\\\dataset\\\\\"# path were u want store the data set\n",
    "id = input('enter user name')\n",
    "\n",
    "try:\n",
    "    # Create target Directory\n",
    "    os.mkdir(path+str(id))\n",
    "    print(\"Directory \" , path+str(id),  \" Created \") \n",
    "except FileExistsError:\n",
    "    print(\"Directory \" , path+str(id) ,  \" already exists\")\n",
    "sampleN=0;\n",
    "\n",
    "while 1:\n",
    "\n",
    "    ret, img = cap.read()\n",
    "    frame = img.copy()\n",
    "\n",
    "    gray = cv2.cvtColor(frame, cv2.COLOR_BGR2GRAY)\n",
    "\n",
    "    faces = face_cascade.detectMultiScale(gray, 1.3, 5)\n",
    "\n",
    "    for (x,y,w,h) in faces:\n",
    "\n",
    "        sampleN=sampleN+1;\n",
    "\n",
    "        cv2.imwrite(path+str(id)+ \"\\\\\" +str(sampleN)+ \".jpg\", gray[y:y+h, x:x+w])\n",
    "\n",
    "        cv2.rectangle(img,(x,y),(x+w,y+h),(255,0,0),2)\n",
    "\n",
    "        cv2.waitKey(100)\n",
    "\n",
    "    cv2.imshow('img',img)\n",
    "\n",
    "    cv2.waitKey(1)\n",
    "\n",
    "    if sampleN > 40:\n",
    "\n",
    "        break\n",
    "\n",
    "cap.release()\n",
    "\n",
    "cv2.destroyAllWindows()\n"
   ]
  }
 ],
 "metadata": {
  "kernelspec": {
   "display_name": "Python 3",
   "language": "python",
   "name": "python3"
  },
  "language_info": {
   "codemirror_mode": {
    "name": "ipython",
    "version": 3
   },
   "file_extension": ".py",
   "mimetype": "text/x-python",
   "name": "python",
   "nbconvert_exporter": "python",
   "pygments_lexer": "ipython3",
   "version": "3.7.3"
  }
 },
 "nbformat": 4,
 "nbformat_minor": 2
}
