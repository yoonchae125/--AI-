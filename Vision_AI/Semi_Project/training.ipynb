{
 "cells": [
  {
   "cell_type": "code",
   "execution_count": null,
   "metadata": {},
   "outputs": [],
   "source": [
    "import cv2\n",
    "import imutils.paths as paths\n",
    "\n",
    "import face_recognition\n",
    "import pickle\n",
    "import os\n",
    "dataset = \"F:\\\\opencv\\\\face recognisation\\\\dataset\\\\\"# path of the data set \n",
    "module = \"F:\\\\opencv\\\\face recognisation\\\\encodings\\\\encoding1.pickle\" # were u want to store the pickle file \n",
    "\n",
    "imagepaths = list(paths.list_images(dataset))\n",
    "knownEncodings = []\n",
    "knownNames = []\n",
    "for (i, imagePath) in enumerate(imagepaths):\n",
    "    print(\"[INFO] processing image {}/{}\".format(i + 1,len(imagepaths)))\n",
    "    name = imagePath.split(os.path.sep)[-2]\n",
    "    image = cv2.imread(imagePath)\n",
    "    rgb = cv2.cvtColor(image, cv2.COLOR_BGR2RGB)\t\n",
    "    boxes = face_recognition.face_locations(rgb, model= \"hog\")\n",
    "    encodings = face_recognition.face_encodings(rgb, boxes)\n",
    "    for encoding in encodings:\n",
    "       knownEncodings.append(encoding)\n",
    "       knownNames.append(name)\n",
    "       print(\"[INFO] serializing encodings...\")\n",
    "       data = {\"encodings\": knownEncodings, \"names\": knownNames}\n",
    "       output = open(module, \"wb\") \n",
    "       pickle.dump(data, output)\n",
    "       output.close()\n"
   ]
  }
 ],
 "metadata": {
  "kernelspec": {
   "display_name": "Python 3",
   "language": "python",
   "name": "python3"
  },
  "language_info": {
   "codemirror_mode": {
    "name": "ipython",
    "version": 3
   },
   "file_extension": ".py",
   "mimetype": "text/x-python",
   "name": "python",
   "nbconvert_exporter": "python",
   "pygments_lexer": "ipython3",
   "version": "3.7.3"
  }
 },
 "nbformat": 4,
 "nbformat_minor": 2
}
