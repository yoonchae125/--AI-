{
 "cells": [
  {
   "cell_type": "code",
   "execution_count": 1,
   "metadata": {},
   "outputs": [
    {
     "name": "stdout",
     "output_type": "stream",
     "text": [
      "405\n",
      "3\n",
      "[239  58]\n",
      "[ 79 295]\n",
      "[ 79 295]\n",
      "[332 327]\n",
      "[239  58]\n",
      "[332 327]\n",
      "[[[239  58]]\n",
      "\n",
      " [[ 79 295]]\n",
      "\n",
      " [[332 327]]]\n"
     ]
    }
   ],
   "source": [
    "import cv2\n",
    "\n",
    "img_color = cv2.imread(\"../img/tri.jpg\", cv2.IMREAD_COLOR)\n",
    "cv2.imshow('result', img_color)\n",
    "cv2.waitKey(0)\n",
    "\n",
    "img_gray = cv2.cvtColor(img_color, cv2.COLOR_BGR2GRAY)\n",
    "cv2.imshow('result', img_gray)\n",
    "cv2.waitKey(0)\n",
    "\n",
    "ret,img_binary = cv2.threshold(img_gray, 127, 255, cv2.THRESH_BINARY_INV)\n",
    "cv2.imshow('result', img_binary)\n",
    "cv2.waitKey(0)\n",
    "\n",
    "_, contours, hierarchy = cv2.findContours(img_binary, cv2.RETR_EXTERNAL, cv2.CHAIN_APPROX_SIMPLE)\n",
    "\n",
    "\n",
    "for cnt in contours:\n",
    "    size = len(cnt)\n",
    "    print(size)\n",
    "\n",
    "    epsilon = 0.005 * cv2.arcLength(cnt, True)\n",
    "    approx = cv2.approxPolyDP(cnt, epsilon, True)\n",
    "\n",
    "    size = len(approx)\n",
    "    print(size)\n",
    "\n",
    "    #cv2.approxPolyDP결과로 출력되는 좌표 선하나씩 출력해보기\n",
    "    cv2.line(img_color, tuple(approx[0][0]), tuple(approx[1][0]), (0, 255, 0), 3)\n",
    "    print(approx[0][0])\n",
    "    print(approx[1][0])\n",
    "    cv2.imshow('result', img_color)\n",
    "    cv2.waitKey(0)\n",
    "    \n",
    "    cv2.line(img_color, tuple(approx[1][0]), tuple(approx[2][0]), (0, 255, 0), 3)\n",
    "    print(approx[1][0])\n",
    "    print(approx[2][0])\n",
    "    cv2.imshow('result', img_color)\n",
    "    cv2.waitKey(0)\n",
    "    \n",
    "    \n",
    "    cv2.line(img_color, tuple(approx[0][0]), tuple(approx[2][0]), (0, 255, 0), 3)\n",
    "    print(approx[0][0])\n",
    "    print(approx[2][0])\n",
    "    cv2.putText(img_color, str(size), (30,30), cv2.FONT_HERSHEY_SIMPLEX, 1, (0, 0, 0), 3, 8)\n",
    "    cv2.imshow('result', img_color)\n",
    "    cv2.waitKey(0)\n",
    "    \n",
    "    #궁금하니까 출력해보기 \n",
    "print(approx[:,:,:])\n",
    "   \n",
    "\n",
    "# 일반화    \n",
    "#     cv2.line(img_color, tuple(approx[0][0]), tuple(approx[size-1][0]), (0, 255, 0), 3)\n",
    "#     for k in range(size-1):\n",
    "#         cv2.line(img_color, tuple(approx[k][0]), tuple(approx[k+1][0]), (0, 255, 0), 3)\n",
    "    \n",
    "cv2.waitKey(0)\n",
    "cv2.destroyAllWindows()"
   ]
  },
  {
   "cell_type": "code",
   "execution_count": null,
   "metadata": {},
   "outputs": [],
   "source": []
  }
 ],
 "metadata": {
  "kernelspec": {
   "display_name": "Python 3",
   "language": "python",
   "name": "python3"
  },
  "language_info": {
   "codemirror_mode": {
    "name": "ipython",
    "version": 3
   },
   "file_extension": ".py",
   "mimetype": "text/x-python",
   "name": "python",
   "nbconvert_exporter": "python",
   "pygments_lexer": "ipython3",
   "version": "3.7.3"
  }
 },
 "nbformat": 4,
 "nbformat_minor": 2
}
