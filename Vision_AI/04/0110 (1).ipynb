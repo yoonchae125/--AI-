{
 "cells": [
  {
   "cell_type": "markdown",
   "metadata": {},
   "source": [
    "## 파이썬을 이용한 머신러닝, 딥러닝 실전 앱 개발 \n",
    "### (P109 ~ P138)\n"
   ]
  },
  {
   "cell_type": "markdown",
   "metadata": {},
   "source": [
    "### 문자인식 - 손글씨 숫자 판정하기"
   ]
  },
  {
   "cell_type": "markdown",
   "metadata": {},
   "source": [
    "* dataset = 8 x 8 픽셀의 손글씨 숫자 데이터 5620개"
   ]
  },
  {
   "cell_type": "code",
   "execution_count": 11,
   "metadata": {},
   "outputs": [
    {
     "data": {
      "image/png": "[encoded data removed]",
      "text/plain": [
       "<Figure size 432x288 with 15 Axes>"
      ]
     },
     "metadata": {
      "needs_background": "light"
     },
     "output_type": "display_data"
    }
   ],
   "source": [
    "import matplotlib.pyplot as plt\n",
    "\n",
    "#손글씨 데이터 읽어 들이기 \n",
    "from sklearn import datasets\n",
    "digits = datasets.load_digits()\n",
    "\n",
    "\n",
    "#15개만 출력해 보기\n",
    "for i in range(15):\n",
    "    plt.subplot(3,5,i+1)\n",
    "    plt.axis('off')\n",
    "    plt.title(str(digits.target[i]))\n",
    "    plt.imshow(digits.images[i], cmap = 'gray')\n",
    "\n",
    "plt.show()\n",
    "\n",
    "\n"
   ]
  },
  {
   "cell_type": "code",
   "execution_count": 15,
   "metadata": {},
   "outputs": [
    {
     "data": {
      "image/png": "[encoded data removed]",
      "text/plain": [
       "<Figure size 432x288 with 1 Axes>"
      ]
     },
     "metadata": {
      "needs_background": "light"
     },
     "output_type": "display_data"
    },
    {
     "name": "stdout",
     "output_type": "stream",
     "text": [
      "[[ 0.  0.  5. 13.  9.  1.  0.  0.]\n",
      " [ 0.  0. 13. 15. 10. 15.  5.  0.]\n",
      " [ 0.  3. 15.  2.  0. 11.  8.  0.]\n",
      " [ 0.  4. 12.  0.  0.  8.  8.  0.]\n",
      " [ 0.  5.  8.  0.  0.  9.  8.  0.]\n",
      " [ 0.  4. 11.  0.  1. 12.  7.  0.]\n",
      " [ 0.  2. 14.  5. 10. 12.  0.  0.]\n",
      " [ 0.  0.  6. 13. 10.  0.  0.  0.]]\n"
     ]
    }
   ],
   "source": [
    "d0 = digits.images[0]\n",
    "plt.imshow(d0, cmap = 'gray')\n",
    "plt.show()\n",
    "\n",
    "print(d0)"
   ]
  },
  {
   "cell_type": "markdown",
   "metadata": {},
   "source": [
    "### 이미지 머신러닝"
   ]
  },
  {
   "cell_type": "code",
   "execution_count": 17,
   "metadata": {},
   "outputs": [
    {
     "name": "stdout",
     "output_type": "stream",
     "text": [
      "0.9638888888888889\n"
     ]
    },
    {
     "name": "stderr",
     "output_type": "stream",
     "text": [
      "C:\\Users\\student\\Anaconda3\\lib\\site-packages\\sklearn\\svm\\base.py:931: ConvergenceWarning: Liblinear failed to converge, increase the number of iterations.\n",
      "  \"the number of iterations.\", ConvergenceWarning)\n"
     ]
    }
   ],
   "source": [
    "from sklearn.model_selection import train_test_split\n",
    "from sklearn import datasets, svm, metrics\n",
    "from sklearn.metrics import accuracy_score\n",
    "from sklearn.externals import joblib\n",
    "\n",
    "# 데이터 읽어 들이기 --- (*1)\n",
    "digits = datasets.load_digits()\n",
    "x= digits.images\n",
    "y= digits.target\n",
    "x= x.reshape((-1,64))# 2차원 배열을 1차원 배열로 변환하기 --- (*2) / 8x8 -> 1 x 64\n",
    "\n",
    "# 데이터를 학습 전용과 테스트 전용으로 분리하기 --- (*3)\n",
    "x_train, x_test, y_train, y_test = train_test_split(x, y, test_size = 0.2)\n",
    "\n",
    "# 데이터 학습하기 --- (*4)\n",
    "clf = svm.LinearSVC()            #커널 서포트 백터머신\n",
    "clf.fit(x_train, y_train)\n",
    "\n",
    "# 예측하고 정답률 출력하기 --- (*5)\n",
    "y_pred = clf.predict(x_test)\n",
    "print(accuracy_score(y_test,y_pred))"
   ]
  },
  {
   "cell_type": "markdown",
   "metadata": {},
   "source": [
    "### 학습데이터 저장"
   ]
  },
  {
   "cell_type": "code",
   "execution_count": 21,
   "metadata": {},
   "outputs": [
    {
     "data": {
      "text/plain": [
       "['digits.pkl']"
      ]
     },
     "execution_count": 21,
     "metadata": {},
     "output_type": "execute_result"
    }
   ],
   "source": [
    "joblib.dump(clf,'digits.pkl')"
   ]
  },
  {
   "cell_type": "code",
   "execution_count": 22,
   "metadata": {},
   "outputs": [],
   "source": [
    "# 학습한 데이터 읽기\n",
    "clf = joblib.load('digits.pkl')"
   ]
  },
  {
   "cell_type": "markdown",
   "metadata": {},
   "source": [
    "### 이미지 판정하기"
   ]
  },
  {
   "cell_type": "markdown",
   "metadata": {},
   "source": [
    "https://firealpaca.com/kr/\n",
    "* 해당링크 다운 후 에서 직접 그려서 저장 후 판정해보기(두껍게, 정중앙으로)"
   ]
  },
  {
   "cell_type": "code",
   "execution_count": 56,
   "metadata": {},
   "outputs": [
    {
     "name": "stdout",
     "output_type": "stream",
     "text": [
      "img/image.png = 5\n"
     ]
    }
   ],
   "source": [
    "import cv2\n",
    "from sklearn.externals import joblib\n",
    "\n",
    "def predict_digit(filename):\n",
    "    clf = joblib.load('digits.pkl')\n",
    "    my_img = cv2.imread(filename)\n",
    "    my_img = cv2.cvtColor(my_img, cv2.COLOR_BGR2GRAY)\n",
    "    my_img = cv2.resize(my_img,(8, 8))\n",
    "    my_img = cv2.bitwise_not(my_img)\n",
    "    \n",
    "    my_img = my_img.reshape((-1,64))\n",
    "    \n",
    "    res = clf.predict(my_img)\n",
    "    return res[0]\n",
    "\n",
    "# 이미지 파일을 지정해서 실행하기\n",
    "n = predict_digit(\"img/image.png\")\n",
    "print(\"img/image.png = \"+ str(n))\n"
   ]
  },
  {
   "cell_type": "markdown",
   "metadata": {},
   "source": [
    "### 윤곽검출"
   ]
  },
  {
   "cell_type": "code",
   "execution_count": 65,
   "metadata": {},
   "outputs": [
    {
     "name": "stdout",
     "output_type": "stream",
     "text": [
      "97 64 30 28\n",
      "101 9 90 81\n"
     ]
    },
    {
     "data": {
      "image/png": "[encoded data removed]",
      "text/plain": [
       "<Figure size 432x288 with 2 Axes>"
      ]
     },
     "metadata": {
      "needs_background": "light"
     },
     "output_type": "display_data"
    }
   ],
   "source": [
    "import cv2\n",
    "import matplotlib.pyplot as plt\n",
    "\n",
    "# 이미지 읽어 들이고 크기 변경하기 --- (*1)\n",
    "img = cv2.imread('img/flower.jpg')\n",
    "img = cv2.resize(img, (300,169))\n",
    "\n",
    "# 색공간 변경하기 --- (*2)\n",
    "gray = cv2.cvtColor(img,cv2.COLOR_BGR2GRAY)\n",
    "gray = cv2.GaussianBlur(gray,(7,7), 0)\n",
    "im2 = cv2.threshold(gray, 140, 240,cv2.THRESH_BINARY_INV)[1]\n",
    "\n",
    "\n",
    "# 화면 왼쪽에 변환한 이미지 출력하기 --- (*3)\n",
    "plt.subplot(1,2,1)\n",
    "plt.imshow(im2, cmap = 'gray')\n",
    "\n",
    "\n",
    "# 윤곽 검출하기 --- (*4)\n",
    "cnts = cv2.findContours(im2, cv2.RETR_LIST, cv2.CHAIN_APPROX_SIMPLE)[1]\n",
    "\n",
    "\n",
    "\n",
    "# 검출한 윤곽 그리기 --- (*5)\n",
    "\n",
    "for pt in cnts:\n",
    "    x,y,w,h = cv2.boundingRect(pt)\n",
    "    if w<30 or w>200 : continue\n",
    "    print(x,y,w,h)\n",
    "    cv2.rectangle(img,(x,y),(x+w,y+h),(0,255,0),2)\n",
    "\n",
    "# 화면 오른쪽에 결과 출력하기 --- (*6)\n",
    "plt.subplot(1,2,2)\n",
    "plt.imshow(cv2.cvtColor(img, cv2.COLOR_BGR2RGB))\n",
    "plt.savefig(\"find_contours\", dpi = 200)\n",
    "plt.show()"
   ]
  },
  {
   "cell_type": "markdown",
   "metadata": {},
   "source": [
    "### 'hagaki1 이미지 출력해보기'\n",
    "(책에 없으나, 아래 코드를 이해하는데 도움됨, 생략해도 무관)"
   ]
  },
  {
   "cell_type": "code",
   "execution_count": 67,
   "metadata": {},
   "outputs": [
    {
     "data": {
      "image/png": "[encoded data removed]",
      "text/plain": [
       "<Figure size 432x288 with 1 Axes>"
      ]
     },
     "metadata": {
      "needs_background": "light"
     },
     "output_type": "display_data"
    }
   ],
   "source": [
    "import cv2\n",
    "import matplotlib.pyplot as plt\n",
    "\n",
    "img = cv2.imread('img/hagaki1.png')\n",
    "\n",
    "plt.imshow(cv2.cvtColor(img, cv2.COLOR_BGR2RGB))\n",
    "plt.show()"
   ]
  },
  {
   "cell_type": "code",
   "execution_count": 70,
   "metadata": {},
   "outputs": [
    {
     "data": {
      "image/png": "[encoded data removed]",
      "text/plain": [
       "<Figure size 432x288 with 1 Axes>"
      ]
     },
     "metadata": {
      "needs_background": "light"
     },
     "output_type": "display_data"
    }
   ],
   "source": [
    "import cv2\n",
    "import matplotlib.pyplot as plt\n",
    "\n",
    "# 엽서 이미지에서 우편 번호를 추출하는 함수\n",
    "def detect_zipno(fname):\n",
    "    # 이미지 읽어 들이기\n",
    "    img = cv2.imread(fname)\n",
    "    # 이미지 크기 구하기\n",
    "    h, w = img.shape[:2]\n",
    "    # 이미지의 오른쪽 윗부분만 추출하기 --- (*1)\n",
    "    img = img[0:h//2, w//3:]\n",
    "    \n",
    "    # 이미지 이진화하기 --- (*2)\n",
    "    gray = cv2.cvtColor(img, cv2.COLOR_BGR2GRAY)\n",
    "    gray = cv2.GaussianBlur(gray, (3, 3), 0) \n",
    "    im2 = cv2.threshold(gray, 140, 255, cv2.THRESH_BINARY_INV)[1]\n",
    "    \n",
    "    # 윤곽 검출하기 --- (*3)\n",
    "    cnts = cv2.findContours(im2, \n",
    "        cv2.RETR_LIST,\n",
    "        cv2.CHAIN_APPROX_SIMPLE)[1]\n",
    "    \n",
    "    # 추출한 이미지에서 윤곽 추출하기--- (*4)\n",
    "    result = []\n",
    "    for pt in cnts:\n",
    "        x, y, w, h = cv2.boundingRect(pt)\n",
    "        # 너무 크거나 너무 작은 부분 제거하기 --- (*5)\n",
    "        if not(50 < w < 70): continue\n",
    "        result.append([x, y, w, h])\n",
    "    # 추출한 윤곽을 위치에 따라 정렬하기 --- (*6)\n",
    "    result = sorted(result, key=lambda x: x[0])\n",
    "    # 추출한 윤곽이 너무 가까운 것들 제거하기 --- (*7)\n",
    "    result2 = []\n",
    "    lastx = -100\n",
    "    for x, y, w, h in result:\n",
    "        if (x - lastx) < 10: continue\n",
    "        result2.append([x, y, w, h])\n",
    "        lastx = x\n",
    "    # 초록색 테두리 출력하기 --- (*8)\n",
    "    for x, y, w, h in result2:\n",
    "        cv2.rectangle(img, (x, y), (x+w, y+h), (0, 255, 0), 3)\n",
    "    return result2, img\n",
    "\n",
    "if __name__ == '__main__':\n",
    "    # 이미지를 지정해서 우편번호 추출하기\n",
    "    cnts, img = detect_zipno(\"img/hagaki1.png\")\n",
    "\n",
    "    # 결과 출력하기 --- (*7)\n",
    "    plt.imshow(cv2.cvtColor(img, cv2.COLOR_BGR2RGB))\n",
    "    plt.savefig(\"detect-zip.png\", dpi=200)\n",
    "    plt.show()"
   ]
  },
  {
   "cell_type": "markdown",
   "metadata": {},
   "source": [
    "### 바로위 코드만 detect_zip.py으로 저장하기"
   ]
  },
  {
   "cell_type": "markdown",
   "metadata": {},
   "source": [
    "### 추출한 숫자 이미지 판정하기"
   ]
  },
  {
   "cell_type": "code",
   "execution_count": 76,
   "metadata": {},
   "outputs": [
    {
     "name": "stderr",
     "output_type": "stream",
     "text": [
      "C:\\Users\\student\\Anaconda3\\lib\\site-packages\\matplotlib\\text.py:1191: FutureWarning: elementwise comparison failed; returning scalar instead, but in the future will perform elementwise comparison\n",
      "  if s != self._text:\n",
      "C:\\Users\\student\\Anaconda3\\lib\\site-packages\\matplotlib\\text.py:1191: FutureWarning: elementwise comparison failed; returning scalar instead, but in the future will perform elementwise comparison\n",
      "  if s != self._text:\n",
      "C:\\Users\\student\\Anaconda3\\lib\\site-packages\\matplotlib\\text.py:1191: FutureWarning: elementwise comparison failed; returning scalar instead, but in the future will perform elementwise comparison\n",
      "  if s != self._text:\n",
      "C:\\Users\\student\\Anaconda3\\lib\\site-packages\\matplotlib\\text.py:1191: FutureWarning: elementwise comparison failed; returning scalar instead, but in the future will perform elementwise comparison\n",
      "  if s != self._text:\n",
      "C:\\Users\\student\\Anaconda3\\lib\\site-packages\\matplotlib\\text.py:1191: FutureWarning: elementwise comparison failed; returning scalar instead, but in the future will perform elementwise comparison\n",
      "  if s != self._text:\n",
      "C:\\Users\\student\\Anaconda3\\lib\\site-packages\\matplotlib\\text.py:1191: FutureWarning: elementwise comparison failed; returning scalar instead, but in the future will perform elementwise comparison\n",
      "  if s != self._text:\n",
      "C:\\Users\\student\\Anaconda3\\lib\\site-packages\\matplotlib\\text.py:1191: FutureWarning: elementwise comparison failed; returning scalar instead, but in the future will perform elementwise comparison\n",
      "  if s != self._text:\n"
     ]
    },
    {
     "data": {
      "image/png": "[encoded data removed]",
      "text/plain": [
       "<Figure size 432x288 with 7 Axes>"
      ]
     },
     "metadata": {
      "needs_background": "light"
     },
     "output_type": "display_data"
    }
   ],
   "source": [
    "from detect_zip import *\n",
    "import matplotlib.pyplot as plt\n",
    "\n",
    "from sklearn.externals import joblib\n",
    "\n",
    "#학습한 데이터 읽어 들이기\n",
    "clf = joblib.load('digits.pkl')\n",
    "\n",
    "# 이미지에서 영역 읽어 들이기, 바로 위 좌표함수 참고\n",
    "cnts, img = detect_zipno('img/hagaki1.png')\n",
    "\n",
    "# 읽어들인 데이터 출력하기\n",
    "for i, pt in enumerate(cnts):\n",
    "    x,y,w,h=pt\n",
    "    #윤과그로 감싼 부분을 작게 만들기\n",
    "    x += 8\n",
    "    y+=8\n",
    "    w-=16\n",
    "    h-=16\n",
    "    \n",
    "    #이미지 데이터 추출하기\n",
    "    im2 = img[y:y+h, x:x+w]\n",
    "    #데이터를 학습에 적합하게 변환하기\n",
    "    im2gray = cv2.cvtColor(im2,cv2.COLOR_BGR2GRAY) # 그레이스케일\n",
    "    im2gray = cv2.resize(im2gray, (8,8)) # 크기변경\n",
    "    im2gray = cv2.bitwise_not(im2gray) # 흑백 반전\n",
    "    im2gray = im2gray.reshape((-1, 64)) # 차원 변환\n",
    "    #데이터 예측하기\n",
    "    res = clf.predict(im2gray)\n",
    "    #출력하기\n",
    "    plt.subplot(1, 7, i+1)\n",
    "    plt.imshow(im2)\n",
    "    plt.axis(\"off\")\n",
    "    plt.title(res)\n",
    "plt.show()"
   ]
  },
  {
   "cell_type": "markdown",
   "metadata": {},
   "source": [
    "### 화면에 움직임이 있는 부분 추출하기(p144)\n",
    " - 노트북으로 실행\n",
    " - cv2.absdiff() : 이미지의 차이 확인"
   ]
  },
  {
   "cell_type": "code",
   "execution_count": 39,
   "metadata": {},
   "outputs": [],
   "source": [
    "import cv2\n",
    "\n",
    "cap = cv2.VideoCapture(0)\n",
    "img_last = None # 이전 프레임을 저장해둘 변수 --- (*1)\n",
    "green = (0, 255, 0)\n",
    "\n",
    "while True:\n",
    "    # 이미지 추출하기\n",
    "    _, frame = cap.read()\n",
    "    frame = cv2.resize(frame, (500, 300))\n",
    "    # 흑백 이미지로 변환하기 --- (*2)\n",
    "    gray = cv2.cvtColor(frame, cv2.COLOR_BGR2GRAY)\n",
    "    gray = cv2.GaussianBlur(gray, (9, 9), 0)\n",
    "    img_b = cv2.threshold(gray, 100, 255, cv2.THRESH_BINARY)[1]\n",
    "    # 차이 확인하기\n",
    "    if img_last is None:\n",
    "        img_last = img_b\n",
    "        continue\n",
    "    frame_diff = cv2.absdiff(img_last, img_b) # --- (*3)\n",
    "    cnts = cv2.findContours(frame_diff, \n",
    "            cv2.RETR_EXTERNAL,\n",
    "            cv2.CHAIN_APPROX_SIMPLE)[1]\n",
    "    # 차이가 있는 부분 출력하기 --- (*4)\n",
    "    for pt in cnts:\n",
    "        x, y, w, h = cv2.boundingRect(pt)\n",
    "        if w < 30: continue # 작은 변경은 무시하기\n",
    "        cv2.rectangle(frame, (x, y), (x+w, y+h), green, 2)\n",
    "    # 프레임을 변수에 저장해두기 --- (*5)\n",
    "    img_last = img_b\n",
    "    # 화면에 출력하기\n",
    "    cv2.imshow(\"Diff Camera\", frame)\n",
    "    cv2.imshow(\"diff data\", frame_diff)\n",
    "    if cv2.waitKey(1) == 27: break\n",
    "cap.release()\n",
    "cv2.destroyAllWindows()"
   ]
  },
  {
   "cell_type": "markdown",
   "metadata": {},
   "source": [
    "### 동영상에서 열대어가 나오는 부분 검출하기"
   ]
  },
  {
   "cell_type": "code",
   "execution_count": 6,
   "metadata": {},
   "outputs": [
    {
     "name": "stdout",
     "output_type": "stream",
     "text": [
      "ok\n"
     ]
    }
   ],
   "source": [
    "import cv2, os\n",
    "\n",
    "img_last = None # 이전 프레임을 저장할 변수\n",
    "no = 0 # 이미지 장 수\n",
    "save_dir = \"./exfish\" # 저장 디렉터리 이름\n",
    "os.mkdir(save_dir) # 디렉터리 만들기\n",
    "\n",
    "# 동영상 파일로부터 입력받기 --- (*1)\n",
    "cap = cv2.VideoCapture(\"img/fish.mp4\")\n",
    "while True:\n",
    "    # 이미지 추출하기\n",
    "    is_ok, frame = cap.read()\n",
    "    if not is_ok: break\n",
    "    frame = cv2.resize(frame, (640, 360))\n",
    "    # 흑백 이미지로 변환하기 --- (*2)\n",
    "    gray = cv2.cvtColor(frame, cv2.COLOR_BGR2GRAY)\n",
    "    gray = cv2.GaussianBlur(gray, (15, 15), 0)\n",
    "    img_b = cv2.threshold(gray, 127, 255, cv2.THRESH_BINARY)[1]\n",
    "    # 차이 확인하기\n",
    "    if not img_last is None:\n",
    "        frame_diff = cv2.absdiff(img_last, img_b) # --- (*3)\n",
    "        cnts = cv2.findContours(frame_diff, \n",
    "            cv2.RETR_EXTERNAL,\n",
    "            cv2.CHAIN_APPROX_SIMPLE)[1]\n",
    "        # 차이가 있는 부분을 파일로 출력하기 --- (*4)\n",
    "        for pt in cnts:\n",
    "            x, y, w, h = cv2.boundingRect(pt)\n",
    "            if w < 100 or w > 500: continue # 노이즈 제거하기\n",
    "            # 추출한 영역 저장하기\n",
    "            imgex = frame[y:y+h, x:x+w]\n",
    "            outfile = save_dir + \"/\" + str(no) + \".jpg\"\n",
    "            cv2.imwrite(outfile, imgex)\n",
    "            no += 1\n",
    "    img_last = img_b\n",
    "cap.release()\n",
    "print(\"ok\")"
   ]
  },
  {
   "cell_type": "markdown",
   "metadata": {},
   "source": [
    "### 학습이미지 준비하기 \n",
    " (1) 열대어가 나오는이미지와, 나오지 않는 이미지 각 fish / nofish로 150장 뽑기"
   ]
  },
  {
   "cell_type": "markdown",
   "metadata": {},
   "source": [
    "### 머신러닝으로 동영상에서 열대어가 많이 나오는 부분 찾기"
   ]
  },
  {
   "cell_type": "code",
   "execution_count": 7,
   "metadata": {},
   "outputs": [
    {
     "name": "stdout",
     "output_type": "stream",
     "text": [
      "C:\\Users\\student\\python_DEC\\AI_Image\\Vision_AI\\04/nofish\n",
      "0.9556650246305419\n"
     ]
    },
    {
     "name": "stderr",
     "output_type": "stream",
     "text": [
      "C:\\Users\\student\\Anaconda3\\lib\\site-packages\\sklearn\\ensemble\\forest.py:246: FutureWarning: The default value of n_estimators will change from 10 in version 0.20 to 100 in 0.22.\n",
      "  \"10 in version 0.20 to 100 in 0.22.\", FutureWarning)\n"
     ]
    },
    {
     "data": {
      "text/plain": [
       "['fish.pkl']"
      ]
     },
     "execution_count": 7,
     "metadata": {},
     "output_type": "execute_result"
    }
   ],
   "source": [
    "import cv2\n",
    "import os, glob\n",
    "from sklearn.model_selection import train_test_split\n",
    "from sklearn import datasets, metrics\n",
    "from sklearn.ensemble import RandomForestClassifier\n",
    "from sklearn.metrics import accuracy_score\n",
    "from sklearn.externals import joblib\n",
    "\n",
    "# 이미지 학습 크기와 경로 지정하기\n",
    "image_size = (64, 32)\n",
    "path = os.path.dirname(os.path.abspath(\"__file__\"))\n",
    "path_fish = path + '/fish'\n",
    "path_nofish = path + '/nofish'\n",
    "print(path_nofish)\n",
    "x = [] # 이미지 데이터\n",
    "y = [] # 레이블 데이터\n",
    "\n",
    "# 이미지 데이터를 읽어 들이고 배열에 넣기 --- (*1)\n",
    "def read_dir(path, label):\n",
    "    files = glob.glob(path + \"/*.jpg\")\n",
    "    \n",
    "    for f in files:\n",
    "        img = cv2.imread(f)\n",
    "        img = cv2.resize(img, image_size)\n",
    "        img_data = img.reshape(-1, ) # 1차원으로 전개하기\n",
    "        x.append(img_data)\n",
    "        y.append(label)\n",
    "\n",
    "# 이미지 데이터 읽어 들이기\n",
    "read_dir(path_nofish, 0)\n",
    "read_dir(path_fish, 1)\n",
    "\n",
    "# 데이터를 학습 전용과 테스트 전용으로 분리하기 --- (*2)\n",
    "x_train, x_test, y_train, y_test = train_test_split(x, y, test_size=0.2)\n",
    "\n",
    "# 데이터 학습하기 --- (*3)\n",
    "clf = RandomForestClassifier()\n",
    "clf.fit(x_train, y_train)\n",
    "\n",
    "# 정답률 확인하기 --- (*4)\n",
    "y_pred = clf.predict(x_test)\n",
    "print(accuracy_score(y_test, y_pred))\n",
    "\n",
    "# 데이터 저장하기 --- (*5)\n",
    "joblib.dump(clf, 'fish.pkl')"
   ]
  },
  {
   "cell_type": "markdown",
   "metadata": {},
   "source": [
    "### 동영상분석하기"
   ]
  },
  {
   "cell_type": "code",
   "execution_count": 9,
   "metadata": {},
   "outputs": [
    {
     "name": "stdout",
     "output_type": "stream",
     "text": [
      "ok 62 / 1783\n"
     ]
    }
   ],
   "source": [
    "import cv2, os, copy\n",
    "from sklearn.externals import joblib\n",
    "\n",
    "# 학습한 데이터 읽어 들이기\n",
    "clf = joblib.load(\"fish.pkl\")\n",
    "output_dir = \"./bestshot\"\n",
    "img_last = None # 이전 프레임을 저장할 변수\n",
    "fish_th = 3 # 이미지로 출력할 기준이 되는 물고기 수\n",
    "count = 0\n",
    "frame_count = 0\n",
    "if not os.path.isdir(output_dir): os.mkdir(output_dir)\n",
    "\n",
    "# 동영상 파일로부터 입력받기 --- (*1)\n",
    "cap = cv2.VideoCapture(\"img/fish.mp4\")\n",
    "while True:\n",
    "    # 이미지 추출하기\n",
    "    is_ok, frame = cap.read()\n",
    "    if not is_ok: break\n",
    "    frame = cv2.resize(frame, (640, 360))\n",
    "    frame2 = copy.copy(frame)\n",
    "    frame_count += 1\n",
    "    # 이전 프레임과 비교를 위해 흑백으로 변환하기 --- (*2)\n",
    "    gray = cv2.cvtColor(frame, cv2.COLOR_BGR2GRAY)\n",
    "    gray = cv2.GaussianBlur(gray, (15, 15), 0)\n",
    "    img_b = cv2.threshold(gray, 127, 255, cv2.THRESH_BINARY)[1]\n",
    "    if not img_last is None:\n",
    "        # 차이 추출하기\n",
    "        frame_diff = cv2.absdiff(img_last, img_b)\n",
    "        cnts = cv2.findContours(frame_diff, \n",
    "            cv2.RETR_EXTERNAL,\n",
    "            cv2.CHAIN_APPROX_SIMPLE)[1]\n",
    "        # 차이가 있는 부분에 물고기가 있는지 확인하기\n",
    "        fish_count = 0\n",
    "        for pt in cnts:\n",
    "            x, y, w, h = cv2.boundingRect(pt)\n",
    "            if w < 100 or w > 500: continue # 노이즈 제거하기\n",
    "            # 추출한 영역에 물고기가 있는지 확인하기 --- (*3)\n",
    "            imgex = frame[y:y+h, x:x+w]\n",
    "            imagex = cv2.resize(imgex, (64, 32))\n",
    "            image_data = imagex.reshape(-1, )\n",
    "            pred_y = clf.predict([image_data]) # --- (*4)\n",
    "            if pred_y[0] == 1:\n",
    "                fish_count += 1\n",
    "                cv2.rectangle(frame2, (x, y), (x+w, y+h), (0,255,0), 2)\n",
    "        # 물고기가 많이 있는지 확인하기 --- (*5)\n",
    "        if fish_count > fish_th:\n",
    "            fname = output_dir + \"/fish\" + str(count) + \".jpg\"\n",
    "            cv2.imwrite(fname, frame)\n",
    "            count += 1\n",
    "    cv2.imshow('FISH!', frame2)\n",
    "    if cv2.waitKey(1) == 13: break\n",
    "    img_last = img_b\n",
    "cap.release()\n",
    "cv2.destroyAllWindows()\n",
    "print(\"ok\", count, \"/\", frame_count)"
   ]
  },
  {
   "cell_type": "code",
   "execution_count": null,
   "metadata": {},
   "outputs": [],
   "source": []
  }
 ],
 "metadata": {
  "kernelspec": {
   "display_name": "Python 3",
   "language": "python",
   "name": "python3"
  },
  "language_info": {
   "codemirror_mode": {
    "name": "ipython",
    "version": 3
   },
   "file_extension": ".py",
   "mimetype": "text/x-python",
   "name": "python",
   "nbconvert_exporter": "python",
   "pygments_lexer": "ipython3",
   "version": "3.7.3"
  }
 },
 "nbformat": 4,
 "nbformat_minor": 2
}
