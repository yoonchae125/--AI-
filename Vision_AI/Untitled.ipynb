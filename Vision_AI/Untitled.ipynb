{
 "cells": [
  {
   "cell_type": "code",
   "execution_count": 4,
   "metadata": {},
   "outputs": [
    {
     "name": "stdout",
     "output_type": "stream",
     "text": [
      "(120, 98, 4)\n"
     ]
    },
    {
     "data": {
      "image/png": "[encoded data removed]",
      "text/plain": [
       "<Figure size 432x288 with 1 Axes>"
      ]
     },
     "metadata": {
      "needs_background": "light"
     },
     "output_type": "display_data"
    }
   ],
   "source": [
    "import cv2\n",
    "import numpy as np\n",
    "\n",
    "\n",
    "img_fg=cv2.imread('img/opencv_logo.png',cv2.IMREAD_UNCHANGED)\n",
    "print(img_fg.shape)\n",
    "\n",
    "#배경이미지 열기 \n",
    "# img_bg = cv2.imread('img/girl.jpg')\n",
    "img_bg = np.full((480, 700, 3), (240, 250, 240), np.uint8)\n",
    "img_bg = cv2.putText(img_bg, 'Kim Chaeyoon', (230, 220), cv2.FONT_ITALIC, 1.6, (0, 0, 0), thickness=4)\n",
    "img_bg = cv2.putText(img_bg, '010-3935-4325', (230, 270), cv2.FONT_ITALIC, 1.2, (0, 0, 0), thickness=4)\n",
    "img_bg = cv2.putText(img_bg, 'chaeyoon@kakao.com', (230, 320), cv2.FONT_ITALIC, 1.2, (0, 0, 0), thickness=4)\n",
    "\n",
    "#--② 알파채널을 이용해서 마스크와 역마스크 생성\n",
    "_, mask = cv2.threshold(img_fg[:,:,3],1,255,cv2.THRESH_BINARY)\n",
    "mask_inv=cv2.bitwise_not(mask)\n",
    "\n",
    "#--③ 전경 영상 크기로 배경 영상에서 ROI 잘라내기\n",
    "img_fg=cv2.cvtColor(img_fg,cv2.COLOR_BGRA2BGR)\n",
    "h, w =img_fg.shape[:2]\n",
    "roi = img_bg[10:10+h,10:10+w]\n",
    "\n",
    "#--④ 마스크 이용해서 오려내기\n",
    "masked_fg = cv2.bitwise_and(img_fg,img_fg, mask=mask)\n",
    "masked_bg = cv2.bitwise_and(roi,roi, mask=mask_inv)\n",
    "\n",
    "#--⑥ 이미지 합성\n",
    "added = masked_fg+masked_bg\n",
    "img_bg[10:10+h,10:10+w] = added\n",
    "\n",
    "plt.imshow(cv2.cvtColor(img_bg, cv2.COLOR_BGR2RGB))\n",
    "plt.show()"
   ]
  },
  {
   "cell_type": "code",
   "execution_count": null,
   "metadata": {},
   "outputs": [],
   "source": []
  }
 ],
 "metadata": {
  "kernelspec": {
   "display_name": "Python 3",
   "language": "python",
   "name": "python3"
  },
  "language_info": {
   "codemirror_mode": {
    "name": "ipython",
    "version": 3
   },
   "file_extension": ".py",
   "mimetype": "text/x-python",
   "name": "python",
   "nbconvert_exporter": "python",
   "pygments_lexer": "ipython3",
   "version": "3.7.3"
  }
 },
 "nbformat": 4,
 "nbformat_minor": 2
}
