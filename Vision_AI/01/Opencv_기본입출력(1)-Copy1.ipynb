{
 "cells": [
  {
   "cell_type": "markdown",
   "metadata": {},
   "source": [
    "# OPEN CV"
   ]
  },
  {
   "cell_type": "markdown",
   "metadata": {},
   "source": [
    "* 영상 처리와 컴퓨터 비전을 위한 오픈소스 라이브러리 \n",
    "* C, C++, Python 등에서 사용 가능\n",
    "* 파이썬 버전 2.7과 3.x에 따른 지원에 차이가 없음 \n",
    "* Numpy 모듈이 파이썬 3.0 ~ 3.3까지의 버전을 지원하지 않아 파이썬 3.4버전 이상이 필요\n",
    "* 설치 명령어 : \n",
    "    - pip install opencv-python / pip3 install opencv-python  \n",
    "    - pip3 install opencv-contrib-python (엑스트라 모듈 포함) "
   ]
  },
  {
   "cell_type": "markdown",
   "metadata": {},
   "source": [
    "# 기본입출력"
   ]
  },
  {
   "cell_type": "markdown",
   "metadata": {},
   "source": [
    "## 이미지, 비디오 입출력"
   ]
  },
  {
   "cell_type": "markdown",
   "metadata": {},
   "source": [
    "1. img를 출력해보면 이미지의 화소데이터가 출력된다. \n",
    "\n",
    "2. img = cv2.imread(file_name [, mode_flag]) : 파일으로부터 이미지 읽기 \n",
    "    * file_name : 이미지경로, 문자열 \n",
    "    * mode_flag = cv2.IMREAD_COLOR : 읽기모드지정\n",
    "        * cv2.IMREAD_COLOR : **컬러(BGR)스케일**로 읽기, 기본 값 \n",
    "        * cv2.IMREAD_UNCHANGED : 파일 그대로 읽기 \n",
    "        * **cv2.IMREAD_GRAYSCALE : 그레이(흑백) 스케일로 읽기** \n",
    "        \n",
    "3. cv2.imshow(title, image) : 특정한 이미지를 화면에 출력\n",
    "    * title : 윈도우 창의 제목\n",
    "    * image : 출력할 이미지 객체\n",
    "\n",
    "4. cv2.waitKey(time)\n",
    "    * time : 입력 대기 시간 (무한대기 : 0) \n",
    "    * 사용자가 어떤키를 입력했을 때 대기하며 입력했을 때 Ascii Code(esc:27) 반환\n",
    "    * ()의 경우 아무키나 입력해도 창 닫힘\n",
    "\n",
    "5. cv2.destoryAllWindow() : 화면의 모든 윈도우를 닫는 함수 \n"
   ]
  },
  {
   "cell_type": "markdown",
   "metadata": {},
   "source": [
    "### 새창에 이미지 띄우기"
   ]
  },
  {
   "cell_type": "code",
   "execution_count": null,
   "metadata": {},
   "outputs": [],
   "source": [
    "import cv2\n",
    "\n",
    "img_file=\"img/girl.jpg\" # 이미지 경로\n",
    "img = cv2.imread(img_file) # 변수할당\n",
    "\n",
    "cv2.imshow('IMG', img) # 창이름 'IMG'로 \n",
    "cv2.waitKey(0)\n",
    "# cv2.destroyAllWindows()"
   ]
  },
  {
   "cell_type": "markdown",
   "metadata": {},
   "source": [
    "### jupyter notebook에 이미지 바로 나타내기"
   ]
  },
  {
   "cell_type": "code",
   "execution_count": 1,
   "metadata": {},
   "outputs": [
    {
     "data": {
      "text/plain": [
       "<matplotlib.image.AxesImage at 0x126fe9450>"
      ]
     },
     "execution_count": 1,
     "metadata": {},
     "output_type": "execute_result"
    }
   ],
   "source": [
    "import matplotlib.pyplot as plt\n",
    "import cv2\n",
    "\n",
    "img = cv2.imread('img/actor.jpg')\n",
    "plt.axis('off')\n",
    "plt.imshow(cv2.cvtColor(img, cv2.COLOR_BGR2RGB))"
   ]
  },
  {
   "cell_type": "markdown",
   "metadata": {},
   "source": [
    "#### 그레이스케일로 읽기"
   ]
  },
  {
   "cell_type": "code",
   "execution_count": null,
   "metadata": {},
   "outputs": [],
   "source": [
    "img_file=\"img/actor.jpg\" # 이미지 경로\n",
    "img = cv2.imread(img_file, cv2.IMREAD_GRAYSCALE) # 변수할당\n",
    "\n",
    "cv2.imshow('IMG', img) # 창이름 'IMG'로 \n",
    "cv2.waitKey(0)\n",
    "cv2.destroyAllWindows()"
   ]
  },
  {
   "cell_type": "markdown",
   "metadata": {},
   "source": [
    "### 이미지 저장하기 \n",
    "\n",
    "* cv2.imwrite(file_path, img): 이미지를 파일에 저장 \n",
    "    * file_path : 저장할 파일 경로 이름, 문자열 \n",
    "    * img : 저장할 영상, Numpy 배열 \n",
    "\n",
    "경로에 파일로 저장 "
   ]
  },
  {
   "cell_type": "code",
   "execution_count": 3,
   "metadata": {},
   "outputs": [],
   "source": [
    "img_file=\"img/actor.jpg\" # 이미지 경로\n",
    "img = cv2.imread(img_file, cv2.IMREAD_GRAYSCALE) # 변수할당\n",
    "\n",
    "cv2.imwrite('img/actor_gray.jpg',img)\n"
   ]
  },
  {
   "cell_type": "markdown",
   "metadata": {},
   "source": [
    "### 예제) \n",
    "(1) 컬러이미지를 윈도우 이미지로 연다. \n",
    "\n",
    "(2) 저장한다. , 아무키나 누르면 닫힌다. \n",
    "\n",
    "(3) 흑백사진으로 연다, 아무키나 누르면 닫힌다."
   ]
  },
  {
   "cell_type": "code",
   "execution_count": 3,
   "metadata": {},
   "outputs": [],
   "source": [
    "img_file=\"img/actor.jpg\"\n",
    "\n",
    "# (1) 컬러이미지를 윈도우 이미지로 연다.\n",
    "img = cv2.imread(img_file) \n",
    "cv2.imshow('IMG', img) # 창이름 'IMG'로 \n",
    "cv2.waitKey(0)\n",
    "\n",
    "\n",
    "# (2) 저장한다. , 아무키나 누르면 닫힌다.\n",
    "cv2.imwrite('img/actor_new.jpg',img)\n",
    "cv2.destroyAllWindows()\n",
    "\n",
    "# (3) 흑백사진으로 연다, 아무키나 누르면 닫힌다.\n",
    "img_grayscale = cv2.imread(img_file,cv2.IMREAD_GRAYSCALE)\n",
    "cv2.imshow('GRAYSCALE_IMG', img_grayscale);\n",
    "cv2.waitKey(0)\n",
    "cv2.destroyAllWindows()"
   ]
  },
  {
   "cell_type": "markdown",
   "metadata": {},
   "source": [
    "### 동영상 및 카메라 프레임 읽기\n",
    "* cap = cv2.VideoCaputure(file_path 또는 index) : 비디오 갭처 객체 생성\n",
    "    * file_path : 동영상 파일 경로 \n",
    "    * index : 카메라 장치 번호 (0 부터 차례로 증가)\n",
    "    * cap : VideoCapture 객체 \n",
    "* ret = cap.isOpend() : 객체 초기화 확인 \n",
    "    * ret : 초기화 여부, True/False\n",
    "* ret, img = cap.read() : 영상 프레임 읽기\n",
    "    * ret : 프레임 읽기 성송 또는 실패 여부, True / False\n",
    "    * img : 프레임 이미지, Numpy 배열 또는 None\n",
    "* cap.set(id, value) : 프로퍼티 변경\n",
    "* cap.get(id) : 프로퍼티 확인 \n",
    "* cap.release() : 객체 자원 반납 "
   ]
  },
  {
   "cell_type": "markdown",
   "metadata": {},
   "source": [
    "### 동영상 파일 읽기\n",
    "* waitKey(value) : value 값 변경해보기"
   ]
  },
  {
   "cell_type": "code",
   "execution_count": null,
   "metadata": {},
   "outputs": [],
   "source": [
    "import cv2\n",
    "\n",
    "video_file='img/big_buck.avi'\n",
    "\n",
    "cap = cv2.VideoCapture(video_file)\n",
    "\n",
    "if cap.isOpened(): # 객체 초기화 확인\n",
    "    while True: # 프레임 읽기\n",
    "        ret, img = cap.read()\n",
    "        if ret:\n",
    "            cv2.imshow(video_file, img)\n",
    "            cv2.waitKey(25) \n",
    "            \n",
    "        else:\n",
    "            break\n",
    "else :\n",
    "    print ('동영상을 열 수 없습니다.')\n",
    "\n",
    "cap.release()\n",
    "\n",
    "cv2.destroyAllWindows()"
   ]
  },
  {
   "cell_type": "markdown",
   "metadata": {},
   "source": [
    "#### 카메라 프레임 읽기(실습x, 웹캠필요)\n",
    "* 촬영한 프레임을 읽어 화면에 표시한다.\n",
    "* 아무 키 입력 시 중지"
   ]
  },
  {
   "cell_type": "code",
   "execution_count": 4,
   "metadata": {},
   "outputs": [
    {
     "name": "stdout",
     "output_type": "stream",
     "text": [
      "no frame\n"
     ]
    }
   ],
   "source": [
    "import cv2\n",
    "\n",
    "cap = cv2.VideoCapture(0)               # 0번 카메라 장치 연결 ---①\n",
    "if cap.isOpened():                      # 캡쳐 객체 연결 확인\n",
    "    while True:\n",
    "        ret, img = cap.read()           # 다음 프레임 읽기\n",
    "        if ret:\n",
    "            cv2.imshow('camera', img)   # 다음 프레임 이미지 표시\n",
    "            if cv2.waitKey(1) != -1:    # 1ms 동안 키 입력 대기 ---②\n",
    "                break                   # 아무 키라도 입력이 있으면 중지\n",
    "        else:\n",
    "            print('no frame')\n",
    "            break\n",
    "else:\n",
    "    print(\"can't open camera.\")\n",
    "cap.release()                           # 자원 반납\n",
    "cv2.destroyAllWindows()"
   ]
  },
  {
   "cell_type": "markdown",
   "metadata": {},
   "source": [
    "#### 프레임 스트림 프로퍼티 얻기\n",
    "* cv2.CAP_PROP_FRAME_WIDTH : 프레임 폭\n",
    "* cv2.CAP_PROP_FRAME_HEIGHT : 프레임 높이\n",
    "* cv2.CAP_PROP_FPS : 프레임 초당 프레임 수 \n",
    "* cv2.CAP_PROP_POS_MSEC : 동영상 파일의 프레임 위치(MS)\n",
    "* cv2.CAP_PROP_POS_AVI_RATIO : 동영상 파일의 상대 위치 (0:시작 , 1:끝)\n"
   ]
  },
  {
   "cell_type": "code",
   "execution_count": 1,
   "metadata": {},
   "outputs": [],
   "source": [
    "import cv2"
   ]
  },
  {
   "cell_type": "code",
   "execution_count": 2,
   "metadata": {},
   "outputs": [
    {
     "name": "stdout",
     "output_type": "stream",
     "text": [
      "Frame Count:  558\n",
      "Frame Width:  852\n",
      "Frame Height:  480\n",
      "Frame Rate:  24\n"
     ]
    }
   ],
   "source": [
    "import cv2\n",
    "\n",
    "def print_capture_properties(*args):\n",
    "    capture= cv2.VideoCapture(*args)\n",
    "    print('Frame Count: ',int(capture.get(cv2.CAP_PROP_FRAME_COUNT)))\n",
    "    print('Frame Width: ',int(capture.get(cv2.CAP_PROP_FRAME_WIDTH)))\n",
    "    print('Frame Height: ',int(capture.get(cv2.CAP_PROP_FRAME_HEIGHT)))\n",
    "    print('Frame Rate: ',int(capture.get(cv2.CAP_PROP_FPS)))\n",
    "    \n",
    "print_capture_properties('img/big_buck.avi')"
   ]
  },
  {
   "cell_type": "markdown",
   "metadata": {},
   "source": [
    "### 프레임 스트림을 비디오로 저장(실습x_웹캠필요)"
   ]
  },
  {
   "cell_type": "code",
   "execution_count": null,
   "metadata": {},
   "outputs": [
    {
     "name": "stdout",
     "output_type": "stream",
     "text": [
      "Frame width: 1280\n",
      "Frame height: 720\n"
     ]
    }
   ],
   "source": [
    "import cv2\n",
    "\n",
    "capture = cv2.VideoCapture(0)\n",
    "frame_width = int(capture.get(cv2.CAP_PROP_FRAME_WIDTH))\n",
    "frame_height = int(capture.get(cv2.CAP_PROP_FRAME_HEIGHT))\n",
    "print('Frame width:', frame_width)\n",
    "print('Frame height:', frame_height)\n",
    "\n",
    "video = cv2.VideoWriter('data/captured_video.avi', cv2.VideoWriter_fourcc(*'X264'),\n",
    "                        25, (frame_width, frame_height))\n",
    "\n",
    "while True:\n",
    "    has_frame, frame = capture.read()\n",
    "    if not has_frame:\n",
    "        print('Can\\'t get frame')\n",
    "        break\n",
    "        \n",
    "    video.write(frame)\n",
    "        \n",
    "    cv2.imshow('frame', frame)\n",
    "    key = cv2.waitKey(3)\n",
    "    if key == 27:\n",
    "        print('Pressed Esc')\n",
    "        break            \n",
    "\n",
    "capture.release()\n",
    "video.release()\n",
    "cv2.destroyAllWindows()"
   ]
  },
  {
   "cell_type": "markdown",
   "metadata": {},
   "source": [
    "### 비디오 파일의 프레임 간 이동\n",
    "* cap.set(id, value) : 프로퍼티 변경\n",
    "* cap.get(id) : 프로퍼티 확인 \n",
    "* cv2.CAP_PROP_POS_FRAMES : 현재프레임의 개수"
   ]
  },
  {
   "cell_type": "code",
   "execution_count": null,
   "metadata": {},
   "outputs": [],
   "source": []
  },
  {
   "cell_type": "markdown",
   "metadata": {},
   "source": [
    "### 카메라로 사진 찍기 (웹캠필요)\n",
    "* 카메라 프레임 읽기 \n",
    "* 아무 키 누르면 'photo.jpg'에 저장"
   ]
  },
  {
   "cell_type": "code",
   "execution_count": null,
   "metadata": {},
   "outputs": [],
   "source": [
    "import cv2\n",
    "\n",
    "cap = cv2.VideoCapture(0)                       # 0번 카메라 연결\n",
    "if cap.isOpened() :\n",
    "    while True:\n",
    "        ret, frame = cap.read()                 # 카메라 프레임 읽기\n",
    "        if ret:\n",
    "            cv2.imshow('camera',frame)          # 프레임 화면에 표시\n",
    "            if cv2.waitKey(1) != -1:            # 아무 키나 누르면\n",
    "                cv2.imwrite('photo.jpg', frame) # 프레임을 'photo.jpg'에 저장\n",
    "                break\n",
    "        else:\n",
    "            print('no frame!')\n",
    "            break\n",
    "else:\n",
    "    print('no camera!')\n",
    "cap.release()\n",
    "cv2.destroyAllWindows()"
   ]
  },
  {
   "cell_type": "markdown",
   "metadata": {},
   "source": [
    "### 카메라 녹화하기(웹켐필요)\n",
    "    * 레코드 파일 저장하기\n",
    "* writer = cv2.VideoWriter(file_path, fourcc, fps, (width, height)) : 비디오 저장 클래스 생성자 함수\n",
    "    - file_path : 비디오 파일 저장 경로\n",
    "    - fourcc : 비디오 인코딩 형싱 4글자\n",
    "    - fps : 초당 프레임 수 \n",
    "    - (width, height) : 프레임 폭과 프레임 높이 \n",
    "    - writer : 생성된 비디오 저장 객체 \n",
    "* writer.writh(frame) : 프레임 저장 \n",
    "    - frame : 저장할 프레임 \n",
    "* writer.set(id, value) : 프로퍼티 변경\n",
    "* writer.get(id) : 프로퍼티 확인 \n",
    "* ret = writer.fourcc(c1, c2, c3, c4) : fourcc코드 생성\n",
    "    - c1, c2, c3, c4 : 인코딩 형식\n",
    "    - ret : fourcc 코드\n",
    "* cv2.VideoWriter_fourcc(c1, c2, c3, c4) : cv.VideoWriter.fourcc()"
   ]
  },
  {
   "cell_type": "code",
   "execution_count": null,
   "metadata": {},
   "outputs": [],
   "source": [
    "import cv2\n",
    "\n",
    "cap = cv2.VideoCapture(0)    # 0번 카메라 연결\n",
    "if cap.isOpened:\n",
    "    file_path = 'record.avi'    # 저장할 파일 경로 이름 ---①\n",
    "    fps = 30.0                     # FPS, 초당 프레임 수\n",
    "    fourcc = cv2.VideoWriter_fourcc(*'DIVX') # 인코딩 포맷 문자\n",
    "    width = cap.get(cv2.CAP_PROP_FRAME_WIDTH)\n",
    "    height = cap.get(cv2.CAP_PROP_FRAME_HEIGHT)\n",
    "    size = (int(width), int(height))                        # 프레임 크기\n",
    "    out = cv2.VideoWriter(file_path, fourcc, fps, size) # VideoWriter 객체 생성\n",
    "    while True:\n",
    "        ret, frame = cap.read()\n",
    "        if ret:\n",
    "            cv2.imshow('camera-recording',frame)\n",
    "            out.write(frame)                        # 파일 저장\n",
    "            if cv2.waitKey(int(1000/fps)) != -1: \n",
    "                break\n",
    "        else:\n",
    "            print(\"no frame!\")\n",
    "            break\n",
    "    out.release()                                   # 파일 닫기\n",
    "else:\n",
    "    print(\"can't open camera!\")\n",
    "cap.release()\n",
    "cv2.destroyAllWindows()"
   ]
  },
  {
   "cell_type": "markdown",
   "metadata": {},
   "source": [
    "## 그림그리기"
   ]
  },
  {
   "cell_type": "markdown",
   "metadata": {},
   "source": [
    "### 직선그리기\n",
    "* cv2.line(img, start, end, color[, thickness, lineType]):\n",
    "    * img : 그림그릴 대상 이미지, Numpy 배열 \n",
    "    * start : 선 시작 지점 좌표 (x,y) \n",
    "    * end : 선 끝 지점 좌표 (x,y)\n",
    "    * color : 선 색상 ,(BGR), (0 ~ 255)\n",
    "    * thickness=1 : 선 두께\n",
    "    * lineType: 선그리기 형식 \n",
    "        * cv2.LINE_4,LINE_8, LINE_AA "
   ]
  },
  {
   "cell_type": "markdown",
   "metadata": {},
   "source": [
    "#### 간단한 선그려보기"
   ]
  },
  {
   "cell_type": "code",
   "execution_count": null,
   "metadata": {},
   "outputs": [],
   "source": []
  },
  {
   "cell_type": "markdown",
   "metadata": {},
   "source": [
    "### 사각형 그리기 \n",
    "\n",
    "* cv2.rectangle(img, start, end, color[, thickness, lineType]: 사각형 그리기 \n",
    "    * img : 그림 그릴 대상 이미지, NumPy 배열\n",
    "    * start : d사각형 시작 꼭짓점 (x,y)\n",
    "    * end : 사각형 끝 꼭짓점( x, y)\n",
    "    * color : 색상 (BGR)\n",
    "    * thickness : 선 두께 \n",
    "        * -1 : 채우기 \n",
    "    * lineType : 선타입, cv2.line()과 동일 "
   ]
  },
  {
   "cell_type": "markdown",
   "metadata": {},
   "source": [
    "#### 간단한 사각형 그리기"
   ]
  },
  {
   "cell_type": "code",
   "execution_count": null,
   "metadata": {},
   "outputs": [],
   "source": []
  },
  {
   "cell_type": "markdown",
   "metadata": {},
   "source": [
    "#### 간단한사각형그리기_2"
   ]
  },
  {
   "cell_type": "code",
   "execution_count": null,
   "metadata": {},
   "outputs": [],
   "source": []
  },
  {
   "cell_type": "markdown",
   "metadata": {},
   "source": [
    "### 다각형 그리기\n",
    "\n",
    "* cv2.polylines(img, points, isClosed, color[, thickness, lineType]): 다각형 그리기 \n",
    "\n",
    "    *img : 그림 그릴 대상 이미지 \n",
    "    * points : 꼭짓점 좌표, Numpy 배열 리스트 \n",
    "    * isClosed: 닫힌 도형 여부, True/False \n",
    "    * color : 색상(BGR)\n",
    "    * thickness : 선 두께\n",
    "    * lineType : 선 타입, cv2.line()과 동일"
   ]
  },
  {
   "cell_type": "markdown",
   "metadata": {},
   "source": [
    "#### 다각형그리기_1"
   ]
  },
  {
   "cell_type": "code",
   "execution_count": null,
   "metadata": {},
   "outputs": [],
   "source": []
  },
  {
   "cell_type": "markdown",
   "metadata": {},
   "source": [
    "#### 다각형그리기_2"
   ]
  },
  {
   "cell_type": "code",
   "execution_count": null,
   "metadata": {},
   "outputs": [],
   "source": [
    "import cv2\n",
    "import numpy as np                          # 좌표 표현을 위한 numpy 모듈  ---①\n",
    "\n",
    "img = cv2.imread('img/blank_500.jpg')\n",
    "\n",
    "# Numpy array로 좌표 생성 ---②\n",
    "# 번개 모양 선 좌표\n",
    "pts1 = np.array([[50,50], [150,150], [100,140],[200,240]], dtype=np.int32) \n",
    "# 삼각형 좌표\n",
    "pts2 = np.array([[350,50], [250,200], [450,200]], dtype=np.int32) \n",
    "# 삼각형 좌표\n",
    "pts3 = np.array([[150,300], [50,450], [250,450]], dtype=np.int32) \n",
    "# 5각형 좌표\n",
    "pts4 = np.array([[350,250], [450,350], [400,450], [300,450], [250,350]],dtype=np.int32) \n",
    "\n",
    "# 다각형 그리기 ---③\n",
    "cv2.polylines(img, [pts1], False, (255,0,0))       # 번개 모양 선 그리기\n",
    "cv2.polylines(img, [pts2], False, (0,0,0), 10)     # 3각형 열린 선 그리기 ---④\n",
    "cv2.polylines(img, [pts3], True, (0,0,255), 10)    # 3각형 닫힌 도형 그리기 ---⑤\n",
    "cv2.polylines(img, [pts4], True, (0,0,0))          # 5각형 닫힌 도형 그리기\n",
    "\n",
    "cv2.imshow('polyline', img)\n",
    "cv2.waitKey(0)\n",
    "cv2.destroyAllWindows()"
   ]
  },
  {
   "cell_type": "markdown",
   "metadata": {},
   "source": [
    "### 원그리기"
   ]
  },
  {
   "cell_type": "markdown",
   "metadata": {},
   "source": [
    "* cv2.circle(img, center, radius, color[, thickness, lineType]) : 원 그리기\n",
    "    * img : 그림 대상 이미지\n",
    "    * center : 원점 좌표 (x,y)\n",
    "    * radius : 원의 반지름 \n",
    "    * color : 색상 (BGR)\n",
    "    * thickness : 선 두께 (-1 : 채우기)\n",
    "    * lineType : 선 타입, cv2.line()과 동일"
   ]
  },
  {
   "cell_type": "markdown",
   "metadata": {},
   "source": [
    "#### 간단한 원 그리기"
   ]
  },
  {
   "cell_type": "code",
   "execution_count": null,
   "metadata": {},
   "outputs": [],
   "source": []
  },
  {
   "cell_type": "markdown",
   "metadata": {},
   "source": [
    "### 텍스트 \n",
    "* cv2.putText(image, text, position, font_type, font_scale, color) : 하나의 텍스트를 그리는 함수 \n",
    "     - position : 텍스트가 출력될 위치 \n",
    "     - font_type : 글씨체 \n",
    "     - font_scale: 글씨 크기 가중치"
   ]
  },
  {
   "cell_type": "code",
   "execution_count": null,
   "metadata": {},
   "outputs": [],
   "source": []
  },
  {
   "cell_type": "markdown",
   "metadata": {},
   "source": [
    "### 창관리\n",
    "* cv2.nameWindow(title [, option]) : 이름을 갖는 창 열기 \n",
    "    * title : 창이름, 제목 줄에 표시\n",
    "    * option : 창옵션 \n",
    "        * cv2.WINDOW_NORMAL:임의의크기, 창 크기 조정 가능 \n",
    "        * cv2.WINDOW_AUTOSIZE : 이미지와 같은 크기, 창 크기 재조정 불가능 \n",
    "            \n",
    "* cv2.moveWindow(title, x좌표 , y좌표) : 창위치 이동 \n",
    "* cv2.resizeWindow(title, width, height) : 창 크기 변경 \n",
    "* cv2.destroyWindow(title) : 창 닫기 \n",
    "* cv2.destroyAllWindows(): 열린 모든 창 닫기"
   ]
  },
  {
   "cell_type": "code",
   "execution_count": null,
   "metadata": {},
   "outputs": [],
   "source": []
  },
  {
   "cell_type": "markdown",
   "metadata": {},
   "source": [
    "### 사용자의 키보드입력 처리하기\n",
    "* 윈도우 wasd 키로 상하좌우 움직이기 \n",
    "* q, esc누르면 종료"
   ]
  },
  {
   "cell_type": "markdown",
   "metadata": {},
   "source": [
    "* cv2.waitKey(delay) :   \n",
    "밀리초(0.001초) 단위로 숫자를 전달하면 해당 시간 동안 프로그램을 멈추고 대기하다가 키보드의 눌린 키에 대응하는 코드 값을 정수로 반환\n",
    "    - 0 : 무한대\n",
    "    - ex) esc를 누를 경우 27 출력 (ASCII코드 출력)\n",
    "* ord() : 문자의 아스키코드 출력"
   ]
  },
  {
   "cell_type": "code",
   "execution_count": null,
   "metadata": {},
   "outputs": [],
   "source": []
  },
  {
   "cell_type": "markdown",
   "metadata": {},
   "source": [
    "### 사용자의 마우스입력 처리하기\n",
    "* cv2.setMouseCallback(win_name, onMouse [, param]) : win_name에 onMouse 함수를 등록 \n",
    "    - win_name : 이벤트를 등록할 윈도 이름\n",
    "    - onMoouse : 이벤트 처리를 위해 미리 선언해 놓은 콜백 함수\n",
    "    - param : 필요에 따라 onMouse 함수에 ㅓㄴ달할 인자 \n",
    "* **MouseCallback(event, x, y, flags, param) : 콜백 함수 선언부**\n",
    "    - event : 마우스 이벤트 종류\n",
    "        - cv2.EVENT_MOSEMOVE : 마우스 움직임\n",
    "        - cv2.EVENT_LBUTTONDOWN : 왼쪽 버튼 누름\n",
    "        - cv2.EVENT_RBUTTONDOWN : 오른쪽 버튼 누름 \n",
    "        - cv2.EVENT_MBUTTONDOWN : 가운데 버튼 누름\n",
    "        - cv2.EVENT_LBUTTONDUP : 왼쪽 버튼 뗌\n",
    "        - cv2.EVENT_RBUTTONUP : 오른쪽 버튼 뗌 \n",
    "        - cv2.EVENT_MBUTTONUP : 가운데 버튼 뗌\n",
    "        - cv2.EVENT_LBUTTONDBLCLK: 왼쪽 버튼 더블클릭\n",
    "        - cv2.EVENT_RBUTTONDBLCLK : 오른쪽 버튼 더블클릭\n",
    "        - cv2.EVENT_MBUTTONDBLCLK : 가운데 버튼 더블클릭\n",
    "        - cv2.EVENT_MOUSEWHEEL : 휠 스크롤\n",
    "        - cv2.EVENT_MOUSEWHEEL : 휠 가로 스크롤 \n",
    "    - x, y : 마우스 좌표 \n",
    "    - flags : 마우스 동작과 함께 일어난 상태\n",
    "        - cv2.EVENT_LBUTTONDOWN(1) : 왼쪽 버튼 누름\n",
    "        - cv2.EVENT_RBUTTONDOWN(2) : 오른쪽 버튼 누름 \n",
    "        - cv2.EVENT_MBUTTONDOWN(4) : 가운데 버튼 누름\n",
    "        - cv2.EVENT_FLAG_CTRLKEY(8) : Ctrl 키 누름\n",
    "        - cv2.EVENT_FLAG_SHIFTKEY(16) : Shift 키 누름\n",
    "        - cv2.EVENT_FLAG_ALTKEY(32) : Alt 키 누름\n",
    "    - param : cv2.setMouseCallback() 함수에서 전달한 인자\n",
    "        \n",
    "\n",
    "    "
   ]
  },
  {
   "cell_type": "markdown",
   "metadata": {},
   "source": [
    "#### 마우스 이벤트로 동그라미그리기"
   ]
  },
  {
   "cell_type": "code",
   "execution_count": null,
   "metadata": {},
   "outputs": [],
   "source": []
  },
  {
   "cell_type": "markdown",
   "metadata": {},
   "source": [
    "#### 플래그 이용한 동그라미 그리기"
   ]
  },
  {
   "cell_type": "code",
   "execution_count": null,
   "metadata": {},
   "outputs": [],
   "source": []
  },
  {
   "cell_type": "markdown",
   "metadata": {},
   "source": [
    "#### 콜백함수 이용해서 이미지 자르기 "
   ]
  },
  {
   "cell_type": "code",
   "execution_count": null,
   "metadata": {},
   "outputs": [],
   "source": []
  },
  {
   "cell_type": "markdown",
   "metadata": {},
   "source": [
    "### 트랙바를 이용한 이미지 색 조정\n",
    "* cv2.createTrackbar(trackbar_name, win_name, value, count, onChange) : 트랙바 생성\n",
    "    * trackbar_name : 트랙바 이름 \n",
    "    * value : 트랙바 초기 값, 0 ~ count 사이의 값 \n",
    "    * count : 트랙바 눈굼의 개수, 트랙바가 표시할 수 있는 최대 값 \n",
    "    * onChange : TrackbarCallbak, 트랙바 이벤트 핸들러 함수\n",
    "\n",
    "* TrackbarCallback(value) : 트랙바 이벤트 콜백 함수 \n",
    "    * value : 트랙바가 움직인 새 위치 값 \n",
    "\n",
    "* pos = cv2.getTrackbarPos(trackbar_name, win_name)\n",
    "    * trackbar_name : 찾고자 하는 트랙바 이름 \n",
    "    * win_name : 트랙바가 있는 창의 이름 \n",
    "    * pos : 트랙바 위치 값 "
   ]
  },
  {
   "cell_type": "code",
   "execution_count": null,
   "metadata": {},
   "outputs": [],
   "source": []
  }
 ],
 "metadata": {
  "kernelspec": {
   "display_name": "Python 3",
   "language": "python",
   "name": "python3"
  },
  "language_info": {
   "codemirror_mode": {
    "name": "ipython",
    "version": 3
   },
   "file_extension": ".py",
   "mimetype": "text/x-python",
   "name": "python",
   "nbconvert_exporter": "python",
   "pygments_lexer": "ipython3",
   "version": "3.7.4"
  }
 },
 "nbformat": 4,
 "nbformat_minor": 2
}
